{
 "cells": [
  {
   "cell_type": "markdown",
   "id": "35a3e6f2-e8d5-4575-97a3-1f7870492707",
   "metadata": {},
   "source": [
    "#  <p style=\"padding:10px;background-color:#87CEEB ;margin:10;color:#000000;font-family:newtimeroman;font-size:100%;text-align:center;border-radius: 10px 10px ;overflow:hidden;font-weight:50\"> Credit Score Prediction</p>"
   ]
  },
  {
   "cell_type": "markdown",
   "id": "46fc7b92-db4d-4bbf-b6ed-f153b9172369",
   "metadata": {},
   "source": [
    "### <p style=\"font-family:newtimeroman;font-size:100%;text-align:center;overflow:hidden;font-weight:50\"> -  By Hitesh Bagade</p>"
   ]
  },
  {
   "cell_type": "code",
   "execution_count": 1,
   "id": "f5a5be87-ece5-4cdb-864e-66f0a7a7b7e1",
   "metadata": {},
   "outputs": [],
   "source": [
    "import pandas as pd\n",
    "import numpy as np\n",
    "import seaborn as sb\n",
    "import matplotlib.pyplot as plt\n",
    "import plotly as pl\n",
    "import plotly.express as px\n",
    "import plotly.graph_objects as go\n",
    "from warnings import filterwarnings\n",
    "filterwarnings(\"ignore\")"
   ]
  },
  {
   "cell_type": "markdown",
   "id": "fbceec5d-1e8e-409f-b042-5478dbfc252e",
   "metadata": {},
   "source": [
    "###  <p style=\"padding:10px;background-color:Pink ;margin:10;color:#000000;font-family:newtimeroman;font-size:100%;border-radius: 10px 10px ;overflow:hidden;font-weight:50\">Data Ingestion</p>"
   ]
  },
  {
   "cell_type": "code",
   "execution_count": 2,
   "id": "dd0b39da-fa10-4743-80cd-e28bf9488ff2",
   "metadata": {},
   "outputs": [],
   "source": [
    "df=pd.read_csv(r\"D:\\Classification_HW Assignment\\train.csv\")"
   ]
  },
  {
   "cell_type": "code",
   "execution_count": 3,
   "id": "370a629e-9c50-4815-a165-392763dcd868",
   "metadata": {},
   "outputs": [
    {
     "data": {
      "text/html": [
       "<div>\n",
       "<style scoped>\n",
       "    .dataframe tbody tr th:only-of-type {\n",
       "        vertical-align: middle;\n",
       "    }\n",
       "\n",
       "    .dataframe tbody tr th {\n",
       "        vertical-align: top;\n",
       "    }\n",
       "\n",
       "    .dataframe thead th {\n",
       "        text-align: right;\n",
       "    }\n",
       "</style>\n",
       "<table border=\"1\" class=\"dataframe\">\n",
       "  <thead>\n",
       "    <tr style=\"text-align: right;\">\n",
       "      <th></th>\n",
       "      <th>ID</th>\n",
       "      <th>Customer_ID</th>\n",
       "      <th>Month</th>\n",
       "      <th>Name</th>\n",
       "      <th>Age</th>\n",
       "      <th>SSN</th>\n",
       "      <th>Occupation</th>\n",
       "      <th>Annual_Income</th>\n",
       "      <th>Monthly_Inhand_Salary</th>\n",
       "      <th>Num_Bank_Accounts</th>\n",
       "      <th>...</th>\n",
       "      <th>Credit_Mix</th>\n",
       "      <th>Outstanding_Debt</th>\n",
       "      <th>Credit_Utilization_Ratio</th>\n",
       "      <th>Credit_History_Age</th>\n",
       "      <th>Payment_of_Min_Amount</th>\n",
       "      <th>Total_EMI_per_month</th>\n",
       "      <th>Amount_invested_monthly</th>\n",
       "      <th>Payment_Behaviour</th>\n",
       "      <th>Monthly_Balance</th>\n",
       "      <th>Credit_Score</th>\n",
       "    </tr>\n",
       "  </thead>\n",
       "  <tbody>\n",
       "    <tr>\n",
       "      <th>0</th>\n",
       "      <td>0x1602</td>\n",
       "      <td>CUS_0xd40</td>\n",
       "      <td>January</td>\n",
       "      <td>Aaron Maashoh</td>\n",
       "      <td>23</td>\n",
       "      <td>821-00-0265</td>\n",
       "      <td>Scientist</td>\n",
       "      <td>19114.12</td>\n",
       "      <td>1824.843333</td>\n",
       "      <td>3</td>\n",
       "      <td>...</td>\n",
       "      <td>_</td>\n",
       "      <td>809.98</td>\n",
       "      <td>26.822620</td>\n",
       "      <td>22 Years and 1 Months</td>\n",
       "      <td>No</td>\n",
       "      <td>49.574949</td>\n",
       "      <td>80.41529543900253</td>\n",
       "      <td>High_spent_Small_value_payments</td>\n",
       "      <td>312.49408867943663</td>\n",
       "      <td>Good</td>\n",
       "    </tr>\n",
       "    <tr>\n",
       "      <th>1</th>\n",
       "      <td>0x1603</td>\n",
       "      <td>CUS_0xd40</td>\n",
       "      <td>February</td>\n",
       "      <td>Aaron Maashoh</td>\n",
       "      <td>23</td>\n",
       "      <td>821-00-0265</td>\n",
       "      <td>Scientist</td>\n",
       "      <td>19114.12</td>\n",
       "      <td>NaN</td>\n",
       "      <td>3</td>\n",
       "      <td>...</td>\n",
       "      <td>Good</td>\n",
       "      <td>809.98</td>\n",
       "      <td>31.944960</td>\n",
       "      <td>NaN</td>\n",
       "      <td>No</td>\n",
       "      <td>49.574949</td>\n",
       "      <td>118.28022162236736</td>\n",
       "      <td>Low_spent_Large_value_payments</td>\n",
       "      <td>284.62916249607184</td>\n",
       "      <td>Good</td>\n",
       "    </tr>\n",
       "    <tr>\n",
       "      <th>2</th>\n",
       "      <td>0x1604</td>\n",
       "      <td>CUS_0xd40</td>\n",
       "      <td>March</td>\n",
       "      <td>Aaron Maashoh</td>\n",
       "      <td>-500</td>\n",
       "      <td>821-00-0265</td>\n",
       "      <td>Scientist</td>\n",
       "      <td>19114.12</td>\n",
       "      <td>NaN</td>\n",
       "      <td>3</td>\n",
       "      <td>...</td>\n",
       "      <td>Good</td>\n",
       "      <td>809.98</td>\n",
       "      <td>28.609352</td>\n",
       "      <td>22 Years and 3 Months</td>\n",
       "      <td>No</td>\n",
       "      <td>49.574949</td>\n",
       "      <td>81.699521264648</td>\n",
       "      <td>Low_spent_Medium_value_payments</td>\n",
       "      <td>331.2098628537912</td>\n",
       "      <td>Good</td>\n",
       "    </tr>\n",
       "    <tr>\n",
       "      <th>3</th>\n",
       "      <td>0x1605</td>\n",
       "      <td>CUS_0xd40</td>\n",
       "      <td>April</td>\n",
       "      <td>Aaron Maashoh</td>\n",
       "      <td>23</td>\n",
       "      <td>821-00-0265</td>\n",
       "      <td>Scientist</td>\n",
       "      <td>19114.12</td>\n",
       "      <td>NaN</td>\n",
       "      <td>3</td>\n",
       "      <td>...</td>\n",
       "      <td>Good</td>\n",
       "      <td>809.98</td>\n",
       "      <td>31.377862</td>\n",
       "      <td>22 Years and 4 Months</td>\n",
       "      <td>No</td>\n",
       "      <td>49.574949</td>\n",
       "      <td>199.4580743910713</td>\n",
       "      <td>Low_spent_Small_value_payments</td>\n",
       "      <td>223.45130972736786</td>\n",
       "      <td>Good</td>\n",
       "    </tr>\n",
       "    <tr>\n",
       "      <th>4</th>\n",
       "      <td>0x1606</td>\n",
       "      <td>CUS_0xd40</td>\n",
       "      <td>May</td>\n",
       "      <td>Aaron Maashoh</td>\n",
       "      <td>23</td>\n",
       "      <td>821-00-0265</td>\n",
       "      <td>Scientist</td>\n",
       "      <td>19114.12</td>\n",
       "      <td>1824.843333</td>\n",
       "      <td>3</td>\n",
       "      <td>...</td>\n",
       "      <td>Good</td>\n",
       "      <td>809.98</td>\n",
       "      <td>24.797347</td>\n",
       "      <td>22 Years and 5 Months</td>\n",
       "      <td>No</td>\n",
       "      <td>49.574949</td>\n",
       "      <td>41.420153086217326</td>\n",
       "      <td>High_spent_Medium_value_payments</td>\n",
       "      <td>341.48923103222177</td>\n",
       "      <td>Good</td>\n",
       "    </tr>\n",
       "  </tbody>\n",
       "</table>\n",
       "<p>5 rows × 28 columns</p>\n",
       "</div>"
      ],
      "text/plain": [
       "       ID Customer_ID     Month           Name   Age          SSN Occupation  \\\n",
       "0  0x1602   CUS_0xd40   January  Aaron Maashoh    23  821-00-0265  Scientist   \n",
       "1  0x1603   CUS_0xd40  February  Aaron Maashoh    23  821-00-0265  Scientist   \n",
       "2  0x1604   CUS_0xd40     March  Aaron Maashoh  -500  821-00-0265  Scientist   \n",
       "3  0x1605   CUS_0xd40     April  Aaron Maashoh    23  821-00-0265  Scientist   \n",
       "4  0x1606   CUS_0xd40       May  Aaron Maashoh    23  821-00-0265  Scientist   \n",
       "\n",
       "  Annual_Income  Monthly_Inhand_Salary  Num_Bank_Accounts  ...  Credit_Mix  \\\n",
       "0      19114.12            1824.843333                  3  ...           _   \n",
       "1      19114.12                    NaN                  3  ...        Good   \n",
       "2      19114.12                    NaN                  3  ...        Good   \n",
       "3      19114.12                    NaN                  3  ...        Good   \n",
       "4      19114.12            1824.843333                  3  ...        Good   \n",
       "\n",
       "   Outstanding_Debt Credit_Utilization_Ratio     Credit_History_Age  \\\n",
       "0            809.98                26.822620  22 Years and 1 Months   \n",
       "1            809.98                31.944960                    NaN   \n",
       "2            809.98                28.609352  22 Years and 3 Months   \n",
       "3            809.98                31.377862  22 Years and 4 Months   \n",
       "4            809.98                24.797347  22 Years and 5 Months   \n",
       "\n",
       "   Payment_of_Min_Amount Total_EMI_per_month Amount_invested_monthly  \\\n",
       "0                     No           49.574949       80.41529543900253   \n",
       "1                     No           49.574949      118.28022162236736   \n",
       "2                     No           49.574949         81.699521264648   \n",
       "3                     No           49.574949       199.4580743910713   \n",
       "4                     No           49.574949      41.420153086217326   \n",
       "\n",
       "                  Payment_Behaviour     Monthly_Balance Credit_Score  \n",
       "0   High_spent_Small_value_payments  312.49408867943663         Good  \n",
       "1    Low_spent_Large_value_payments  284.62916249607184         Good  \n",
       "2   Low_spent_Medium_value_payments   331.2098628537912         Good  \n",
       "3    Low_spent_Small_value_payments  223.45130972736786         Good  \n",
       "4  High_spent_Medium_value_payments  341.48923103222177         Good  \n",
       "\n",
       "[5 rows x 28 columns]"
      ]
     },
     "execution_count": 3,
     "metadata": {},
     "output_type": "execute_result"
    }
   ],
   "source": [
    "df.head()"
   ]
  },
  {
   "cell_type": "code",
   "execution_count": 4,
   "id": "c3a0faf4-794a-499d-a6fb-7502f9442fa6",
   "metadata": {},
   "outputs": [
    {
     "data": {
      "text/plain": [
       "(100000, 28)"
      ]
     },
     "execution_count": 4,
     "metadata": {},
     "output_type": "execute_result"
    }
   ],
   "source": [
    "df.shape"
   ]
  },
  {
   "cell_type": "markdown",
   "id": "b6235f26-27a4-4c3f-ad35-787309f38244",
   "metadata": {},
   "source": [
    "##  <p style=\"padding:10px;background-color:Pink ;margin:10;color:#000000;font-family:newtimeroman;font-size:100%;border-radius: 10px 10px ;overflow:hidden;font-weight:50\">Data Cleaning</p>"
   ]
  },
  {
   "cell_type": "code",
   "execution_count": 5,
   "id": "132be886-dd75-4004-a0a3-a632346efa90",
   "metadata": {},
   "outputs": [
    {
     "data": {
      "text/plain": [
       "ID                          100000\n",
       "Customer_ID                  12500\n",
       "Month                            8\n",
       "Name                         10139\n",
       "Age                           1788\n",
       "SSN                          12501\n",
       "Occupation                      16\n",
       "Annual_Income                18940\n",
       "Monthly_Inhand_Salary        13235\n",
       "Num_Bank_Accounts              943\n",
       "Num_Credit_Card               1179\n",
       "Interest_Rate                 1750\n",
       "Num_of_Loan                    434\n",
       "Type_of_Loan                  6260\n",
       "Delay_from_due_date             73\n",
       "Num_of_Delayed_Payment         749\n",
       "Changed_Credit_Limit          4384\n",
       "Num_Credit_Inquiries          1223\n",
       "Credit_Mix                       4\n",
       "Outstanding_Debt             13178\n",
       "Credit_Utilization_Ratio    100000\n",
       "Credit_History_Age             404\n",
       "Payment_of_Min_Amount            3\n",
       "Total_EMI_per_month          14950\n",
       "Amount_invested_monthly      91049\n",
       "Payment_Behaviour                7\n",
       "Monthly_Balance              98792\n",
       "Credit_Score                     3\n",
       "dtype: int64"
      ]
     },
     "execution_count": 5,
     "metadata": {},
     "output_type": "execute_result"
    }
   ],
   "source": [
    "df.nunique()"
   ]
  },
  {
   "cell_type": "code",
   "execution_count": 6,
   "id": "25743bc5-0cfc-4b5a-94cd-f88d75ada92f",
   "metadata": {},
   "outputs": [],
   "source": [
    "A=df.drop([\"ID\",\"Customer_ID\",\"Name\",\"SSN\"],axis=1)"
   ]
  },
  {
   "cell_type": "code",
   "execution_count": 7,
   "id": "49127b6a-1b94-4b20-9aa5-7c87c3a0d3e2",
   "metadata": {},
   "outputs": [
    {
     "name": "stdout",
     "output_type": "stream",
     "text": [
      "<class 'pandas.core.frame.DataFrame'>\n",
      "RangeIndex: 100000 entries, 0 to 99999\n",
      "Data columns (total 24 columns):\n",
      " #   Column                    Non-Null Count   Dtype  \n",
      "---  ------                    --------------   -----  \n",
      " 0   Month                     100000 non-null  object \n",
      " 1   Age                       100000 non-null  object \n",
      " 2   Occupation                100000 non-null  object \n",
      " 3   Annual_Income             100000 non-null  object \n",
      " 4   Monthly_Inhand_Salary     84998 non-null   float64\n",
      " 5   Num_Bank_Accounts         100000 non-null  int64  \n",
      " 6   Num_Credit_Card           100000 non-null  int64  \n",
      " 7   Interest_Rate             100000 non-null  int64  \n",
      " 8   Num_of_Loan               100000 non-null  object \n",
      " 9   Type_of_Loan              88592 non-null   object \n",
      " 10  Delay_from_due_date       100000 non-null  int64  \n",
      " 11  Num_of_Delayed_Payment    92998 non-null   object \n",
      " 12  Changed_Credit_Limit      100000 non-null  object \n",
      " 13  Num_Credit_Inquiries      98035 non-null   float64\n",
      " 14  Credit_Mix                100000 non-null  object \n",
      " 15  Outstanding_Debt          100000 non-null  object \n",
      " 16  Credit_Utilization_Ratio  100000 non-null  float64\n",
      " 17  Credit_History_Age        90970 non-null   object \n",
      " 18  Payment_of_Min_Amount     100000 non-null  object \n",
      " 19  Total_EMI_per_month       100000 non-null  float64\n",
      " 20  Amount_invested_monthly   95521 non-null   object \n",
      " 21  Payment_Behaviour         100000 non-null  object \n",
      " 22  Monthly_Balance           98800 non-null   object \n",
      " 23  Credit_Score              100000 non-null  object \n",
      "dtypes: float64(4), int64(4), object(16)\n",
      "memory usage: 18.3+ MB\n"
     ]
    }
   ],
   "source": [
    "A.info()"
   ]
  },
  {
   "cell_type": "markdown",
   "id": "f4bfff3c-497b-4705-87a7-2f479eb6c526",
   "metadata": {},
   "source": []
  },
  {
   "cell_type": "code",
   "execution_count": null,
   "id": "17124d09-656b-4aa2-aacb-d4d2f5e99fe8",
   "metadata": {},
   "outputs": [],
   "source": []
  },
  {
   "cell_type": "markdown",
   "id": "7da5d0cc-683e-40e9-85ca-1198f691c28d",
   "metadata": {},
   "source": [
    "## Remove Typing Error"
   ]
  },
  {
   "cell_type": "markdown",
   "id": "16edff6d-4757-43d5-a3f9-7e9d8ac759d3",
   "metadata": {},
   "source": [
    "### i) Remove underscore from data points "
   ]
  },
  {
   "cell_type": "code",
   "execution_count": 8,
   "id": "93400764-fb22-4f79-a541-80a8f500ac41",
   "metadata": {},
   "outputs": [
    {
     "name": "stdout",
     "output_type": "stream",
     "text": [
      "Month -- 0\n",
      "Age -- 4939\n",
      "Occupation -- 7062\n",
      "Annual_Income -- 6980\n",
      "Num_of_Loan -- 4785\n",
      "Type_of_Loan -- 0\n",
      "Num_of_Delayed_Payment -- 2744\n",
      "Changed_Credit_Limit -- 2091\n",
      "Credit_Mix -- 20195\n",
      "Outstanding_Debt -- 1009\n",
      "Credit_History_Age -- 0\n",
      "Payment_of_Min_Amount -- 0\n",
      "Amount_invested_monthly -- 4305\n",
      "Payment_Behaviour -- 0\n",
      "Monthly_Balance -- 9\n",
      "Credit_Score -- 0\n"
     ]
    }
   ],
   "source": [
    "err=[]\n",
    "for i in A.select_dtypes(include='object').columns:\n",
    "    print(i,\"--\",A[i].astype('object').str.endswith(\"_\").sum())\n",
    "    if(A[i].astype('object').str.endswith(\"_\").sum()>0):\n",
    "        err.append(i)"
   ]
  },
  {
   "cell_type": "code",
   "execution_count": 9,
   "id": "3a0fe697-1f23-485c-b4b0-6b4103fb7b46",
   "metadata": {},
   "outputs": [
    {
     "data": {
      "text/plain": [
       "['Age',\n",
       " 'Occupation',\n",
       " 'Annual_Income',\n",
       " 'Num_of_Loan',\n",
       " 'Num_of_Delayed_Payment',\n",
       " 'Changed_Credit_Limit',\n",
       " 'Credit_Mix',\n",
       " 'Outstanding_Debt',\n",
       " 'Amount_invested_monthly',\n",
       " 'Monthly_Balance']"
      ]
     },
     "execution_count": 9,
     "metadata": {},
     "output_type": "execute_result"
    }
   ],
   "source": [
    "err"
   ]
  },
  {
   "cell_type": "code",
   "execution_count": 10,
   "id": "adba7cd4-d2e9-4444-9147-eab19bad3f64",
   "metadata": {},
   "outputs": [],
   "source": [
    "for i in err:\n",
    "    a=[j.split(\"_\")[0] for j in A[i].astype(str)]\n",
    "    A[i]=a"
   ]
  },
  {
   "cell_type": "code",
   "execution_count": 11,
   "id": "d2e6c2eb-ae26-4e1a-ab8a-b35443ea3731",
   "metadata": {},
   "outputs": [
    {
     "name": "stdout",
     "output_type": "stream",
     "text": [
      "Month -- 0\n",
      "Age -- 0\n",
      "Occupation -- 0\n",
      "Annual_Income -- 0\n",
      "Monthly_Inhand_Salary -- 0\n",
      "Num_Bank_Accounts -- 0\n",
      "Num_Credit_Card -- 0\n",
      "Interest_Rate -- 0\n",
      "Num_of_Loan -- 0\n",
      "Type_of_Loan -- 0\n",
      "Delay_from_due_date -- 0\n",
      "Num_of_Delayed_Payment -- 0\n",
      "Changed_Credit_Limit -- 0\n",
      "Num_Credit_Inquiries -- 0\n",
      "Credit_Mix -- 0\n",
      "Outstanding_Debt -- 0\n",
      "Credit_Utilization_Ratio -- 0\n",
      "Credit_History_Age -- 0\n",
      "Payment_of_Min_Amount -- 0\n",
      "Total_EMI_per_month -- 0\n",
      "Amount_invested_monthly -- 0\n",
      "Payment_Behaviour -- 0\n",
      "Monthly_Balance -- 0\n",
      "Credit_Score -- 0\n"
     ]
    }
   ],
   "source": [
    "for i in A.columns:\n",
    "    print(i,\"--\",A[i].astype(str).str.endswith(\"_\").sum())"
   ]
  },
  {
   "cell_type": "markdown",
   "id": "b7fd1817-d482-424b-885b-31ab2708a47c",
   "metadata": {},
   "source": [
    "### ii) Garbage Values "
   ]
  },
  {
   "cell_type": "code",
   "execution_count": 12,
   "id": "235e9962-ebdc-4480-bfe5-9f98d198ea96",
   "metadata": {},
   "outputs": [
    {
     "name": "stdout",
     "output_type": "stream",
     "text": [
      "Month -- 0\n",
      "Age -- 0\n",
      "Occupation -- 0\n",
      "Annual_Income -- 0\n",
      "Monthly_Inhand_Salary -- 0\n",
      "Num_Bank_Accounts -- 0\n",
      "Num_Credit_Card -- 0\n",
      "Interest_Rate -- 0\n",
      "Num_of_Loan -- 0\n",
      "Type_of_Loan -- 0\n",
      "Delay_from_due_date -- 0\n",
      "Num_of_Delayed_Payment -- 0\n",
      "Changed_Credit_Limit -- 0\n",
      "Num_Credit_Inquiries -- 0\n",
      "Credit_Mix -- 0\n",
      "Outstanding_Debt -- 0\n",
      "Credit_Utilization_Ratio -- 0\n",
      "Credit_History_Age -- 0\n",
      "Payment_of_Min_Amount -- 0\n",
      "Total_EMI_per_month -- 0\n",
      "Amount_invested_monthly -- 0\n",
      "Payment_Behaviour -- 7600\n",
      "Monthly_Balance -- 0\n",
      "Credit_Score -- 0\n"
     ]
    }
   ],
   "source": [
    "for i in A.columns:\n",
    "    print(i,\"--\",A[i].astype(str).str.startswith(\"!\").sum())"
   ]
  },
  {
   "cell_type": "code",
   "execution_count": 13,
   "id": "d5267977-de21-4775-8c55-fc0480e6041d",
   "metadata": {},
   "outputs": [
    {
     "data": {
      "text/plain": [
       "Payment_Behaviour\n",
       "Low_spent_Small_value_payments      25513\n",
       "High_spent_Medium_value_payments    17540\n",
       "Low_spent_Medium_value_payments     13861\n",
       "High_spent_Large_value_payments     13721\n",
       "High_spent_Small_value_payments     11340\n",
       "Low_spent_Large_value_payments      10425\n",
       "!@9#%8                               7600\n",
       "Name: count, dtype: int64"
      ]
     },
     "execution_count": 13,
     "metadata": {},
     "output_type": "execute_result"
    }
   ],
   "source": [
    "A.Payment_Behaviour.value_counts()"
   ]
  },
  {
   "cell_type": "code",
   "execution_count": 14,
   "id": "055e3365-eaf3-43dc-852d-e4650bd67fd9",
   "metadata": {},
   "outputs": [],
   "source": [
    "A[\"Payment_Behaviour\"][A[\"Payment_Behaviour\"].astype(str).str.startswith(\"!\")]=np.nan"
   ]
  },
  {
   "cell_type": "code",
   "execution_count": 15,
   "id": "24c69f7b-c1a3-4158-9d8a-0dc0ab9d86f3",
   "metadata": {},
   "outputs": [
    {
     "name": "stdout",
     "output_type": "stream",
     "text": [
      "Month -- 0\n",
      "Age -- 0\n",
      "Occupation -- 0\n",
      "Annual_Income -- 0\n",
      "Monthly_Inhand_Salary -- 0\n",
      "Num_Bank_Accounts -- 0\n",
      "Num_Credit_Card -- 0\n",
      "Interest_Rate -- 0\n",
      "Num_of_Loan -- 0\n",
      "Type_of_Loan -- 0\n",
      "Delay_from_due_date -- 0\n",
      "Num_of_Delayed_Payment -- 0\n",
      "Changed_Credit_Limit -- 0\n",
      "Num_Credit_Inquiries -- 0\n",
      "Credit_Mix -- 0\n",
      "Outstanding_Debt -- 0\n",
      "Credit_Utilization_Ratio -- 0\n",
      "Credit_History_Age -- 0\n",
      "Payment_of_Min_Amount -- 0\n",
      "Total_EMI_per_month -- 0\n",
      "Amount_invested_monthly -- 0\n",
      "Payment_Behaviour -- 0\n",
      "Monthly_Balance -- 0\n",
      "Credit_Score -- 0\n"
     ]
    }
   ],
   "source": [
    "for i in A.columns:\n",
    "    print(i,\"--\",A[i].astype(str).str.startswith(\"!\").sum())"
   ]
  },
  {
   "cell_type": "code",
   "execution_count": 16,
   "id": "da3c3520-b53f-4481-bf74-dae088cbc86f",
   "metadata": {},
   "outputs": [
    {
     "data": {
      "text/plain": [
       "Payment_Behaviour\n",
       "Low_spent_Small_value_payments      25513\n",
       "High_spent_Medium_value_payments    17540\n",
       "Low_spent_Medium_value_payments     13861\n",
       "High_spent_Large_value_payments     13721\n",
       "High_spent_Small_value_payments     11340\n",
       "Low_spent_Large_value_payments      10425\n",
       "Name: count, dtype: int64"
      ]
     },
     "execution_count": 16,
     "metadata": {},
     "output_type": "execute_result"
    }
   ],
   "source": [
    "A.Payment_Behaviour.value_counts()"
   ]
  },
  {
   "cell_type": "markdown",
   "id": "aafe247f-22f8-45c9-a4e3-c83a18380bf5",
   "metadata": {},
   "source": [
    "### iii) False Entries"
   ]
  },
  {
   "cell_type": "code",
   "execution_count": 17,
   "id": "623608e4-15c9-4e24-973c-88057c7ccf2a",
   "metadata": {},
   "outputs": [
    {
     "data": {
      "text/plain": [
       "56       7580\n",
       "122       181\n",
       "219       995\n",
       "243      5079\n",
       "288      6409\n",
       "         ... \n",
       "99877    6476\n",
       "99908    4808\n",
       "99913    2263\n",
       "99950    1342\n",
       "99972    1753\n",
       "Name: Age, Length: 1888, dtype: object"
      ]
     },
     "execution_count": 17,
     "metadata": {},
     "output_type": "execute_result"
    }
   ],
   "source": [
    "A[\"Age\"][A[\"Age\"].astype('int32')>110]"
   ]
  },
  {
   "cell_type": "code",
   "execution_count": 18,
   "id": "ece10dbd-6154-4412-8491-a5c8d411f4e5",
   "metadata": {},
   "outputs": [],
   "source": [
    "A[\"Age\"][A[\"Age\"].astype('int32')>110]=np.nan"
   ]
  },
  {
   "cell_type": "markdown",
   "id": "8a521257-c926-45e9-b689-6f1231ff52fc",
   "metadata": {},
   "source": [
    "### iii) Negative values"
   ]
  },
  {
   "cell_type": "code",
   "execution_count": 19,
   "id": "1063dc99-fb78-4e5a-aabd-cb34b6a01845",
   "metadata": {},
   "outputs": [
    {
     "name": "stdout",
     "output_type": "stream",
     "text": [
      "Month -- 0\n",
      "Age -- 886\n",
      "Occupation -- 0\n",
      "Annual_Income -- 0\n",
      "Monthly_Inhand_Salary -- 0\n",
      "Num_Bank_Accounts -- 21\n",
      "Num_Credit_Card -- 0\n",
      "Interest_Rate -- 0\n",
      "Num_of_Loan -- 3876\n",
      "Type_of_Loan -- 0\n",
      "Delay_from_due_date -- 591\n",
      "Num_of_Delayed_Payment -- 644\n",
      "Changed_Credit_Limit -- 1586\n",
      "Num_Credit_Inquiries -- 0\n",
      "Credit_Mix -- 0\n",
      "Outstanding_Debt -- 0\n",
      "Credit_Utilization_Ratio -- 0\n",
      "Credit_History_Age -- 0\n",
      "Payment_of_Min_Amount -- 0\n",
      "Total_EMI_per_month -- 0\n",
      "Amount_invested_monthly -- 0\n",
      "Payment_Behaviour -- 0\n",
      "Monthly_Balance -- 0\n",
      "Credit_Score -- 0\n"
     ]
    }
   ],
   "source": [
    "neg=[]\n",
    "for i in A.columns:\n",
    "    print(i,\"--\",A[i].astype(str).str.startswith(\"-\").sum())\n",
    "    if(A[i].astype(str).str.startswith(\"-\").sum()>0):\n",
    "        neg.append(i)"
   ]
  },
  {
   "cell_type": "code",
   "execution_count": 20,
   "id": "615f8bdb-8698-4652-83ac-3ab1b87f2c31",
   "metadata": {},
   "outputs": [
    {
     "data": {
      "text/plain": [
       "['Age',\n",
       " 'Num_Bank_Accounts',\n",
       " 'Num_of_Loan',\n",
       " 'Delay_from_due_date',\n",
       " 'Num_of_Delayed_Payment',\n",
       " 'Changed_Credit_Limit']"
      ]
     },
     "execution_count": 20,
     "metadata": {},
     "output_type": "execute_result"
    }
   ],
   "source": [
    "neg"
   ]
  },
  {
   "cell_type": "code",
   "execution_count": 21,
   "id": "9e4a69dc-c2e2-4817-b6d9-5695122f0bc0",
   "metadata": {},
   "outputs": [],
   "source": [
    "for i in neg:\n",
    "    A[i][A[i].astype(str).str.startswith(\"-\")]=np.nan"
   ]
  },
  {
   "cell_type": "code",
   "execution_count": 22,
   "id": "8f058067-e7c9-4093-b148-915d0e499e10",
   "metadata": {},
   "outputs": [
    {
     "name": "stdout",
     "output_type": "stream",
     "text": [
      "Month -- 0\n",
      "Age -- 0\n",
      "Occupation -- 0\n",
      "Annual_Income -- 0\n",
      "Monthly_Inhand_Salary -- 0\n",
      "Num_Bank_Accounts -- 0\n",
      "Num_Credit_Card -- 0\n",
      "Interest_Rate -- 0\n",
      "Num_of_Loan -- 0\n",
      "Type_of_Loan -- 0\n",
      "Delay_from_due_date -- 0\n",
      "Num_of_Delayed_Payment -- 0\n",
      "Changed_Credit_Limit -- 0\n",
      "Num_Credit_Inquiries -- 0\n",
      "Credit_Mix -- 0\n",
      "Outstanding_Debt -- 0\n",
      "Credit_Utilization_Ratio -- 0\n",
      "Credit_History_Age -- 0\n",
      "Payment_of_Min_Amount -- 0\n",
      "Total_EMI_per_month -- 0\n",
      "Amount_invested_monthly -- 0\n",
      "Payment_Behaviour -- 0\n",
      "Monthly_Balance -- 0\n",
      "Credit_Score -- 0\n"
     ]
    }
   ],
   "source": [
    "for i in A.columns:\n",
    "    print(i,\"--\",A[i].astype(str).str.startswith(\"-\").sum())"
   ]
  },
  {
   "cell_type": "code",
   "execution_count": null,
   "id": "8f27621d-1ae7-423c-869d-dc79f415e646",
   "metadata": {},
   "outputs": [],
   "source": []
  },
  {
   "cell_type": "markdown",
   "id": "bfb2cd8f-19ec-47c3-90b5-2edc863aa39f",
   "metadata": {
    "scrolled": true
   },
   "source": [
    "## Convert Columns to its correct data type"
   ]
  },
  {
   "cell_type": "code",
   "execution_count": 23,
   "id": "819c6494-0336-4cba-8269-e41c0bb32913",
   "metadata": {},
   "outputs": [
    {
     "data": {
      "text/plain": [
       "Index(['Month', 'Age', 'Occupation', 'Annual_Income', 'Num_of_Loan',\n",
       "       'Type_of_Loan', 'Num_of_Delayed_Payment', 'Changed_Credit_Limit',\n",
       "       'Credit_Mix', 'Outstanding_Debt', 'Credit_History_Age',\n",
       "       'Payment_of_Min_Amount', 'Amount_invested_monthly', 'Payment_Behaviour',\n",
       "       'Monthly_Balance', 'Credit_Score'],\n",
       "      dtype='object')"
      ]
     },
     "execution_count": 23,
     "metadata": {},
     "output_type": "execute_result"
    }
   ],
   "source": [
    "xcat=A.select_dtypes(include='object')\n",
    "xcat.columns"
   ]
  },
  {
   "cell_type": "code",
   "execution_count": 24,
   "id": "56f29491-cf91-4e4b-8b22-d7698a46a0c1",
   "metadata": {},
   "outputs": [],
   "source": [
    "col=[\"Age\",\"Annual_Income\",\"Changed_Credit_Limit\",\"Outstanding_Debt\",\"Amount_invested_monthly\",\"Monthly_Balance\"]"
   ]
  },
  {
   "cell_type": "code",
   "execution_count": 25,
   "id": "50840ad8-1c03-4262-b793-ef8f8fd41a6b",
   "metadata": {},
   "outputs": [
    {
     "name": "stdout",
     "output_type": "stream",
     "text": [
      "Errors are converted to NaN\n"
     ]
    }
   ],
   "source": [
    "from hiteshmodule import object_to_numeric\n",
    "A=object_to_numeric(col,A)"
   ]
  },
  {
   "cell_type": "markdown",
   "id": "b1c22c75-a7c3-4fac-a111-a85defd7f48f",
   "metadata": {},
   "source": [
    "## Missing Data Treatment"
   ]
  },
  {
   "cell_type": "code",
   "execution_count": 26,
   "id": "864fa6ea-0c1f-4c34-8b1a-334937ebc145",
   "metadata": {},
   "outputs": [
    {
     "data": {
      "text/plain": [
       "Month                           0\n",
       "Age                          2774\n",
       "Occupation                      0\n",
       "Annual_Income                   0\n",
       "Monthly_Inhand_Salary       15002\n",
       "Num_Bank_Accounts              21\n",
       "Num_Credit_Card                 0\n",
       "Interest_Rate                   0\n",
       "Num_of_Loan                  3876\n",
       "Type_of_Loan                11408\n",
       "Delay_from_due_date           591\n",
       "Num_of_Delayed_Payment        644\n",
       "Changed_Credit_Limit         3677\n",
       "Num_Credit_Inquiries         1965\n",
       "Credit_Mix                      0\n",
       "Outstanding_Debt                0\n",
       "Credit_Utilization_Ratio        0\n",
       "Credit_History_Age           9030\n",
       "Payment_of_Min_Amount           0\n",
       "Total_EMI_per_month             0\n",
       "Amount_invested_monthly      8784\n",
       "Payment_Behaviour            7600\n",
       "Monthly_Balance              1209\n",
       "Credit_Score                    0\n",
       "dtype: int64"
      ]
     },
     "execution_count": 26,
     "metadata": {},
     "output_type": "execute_result"
    }
   ],
   "source": [
    "A.isna().sum()"
   ]
  },
  {
   "cell_type": "code",
   "execution_count": 27,
   "id": "f08a730e-baa8-44e5-8ae8-34696bd30feb",
   "metadata": {},
   "outputs": [],
   "source": [
    "from hiteshmodule import MDT"
   ]
  },
  {
   "cell_type": "code",
   "execution_count": 28,
   "id": "f9f0444c-3031-4d11-a25a-ee5c6a7df57e",
   "metadata": {},
   "outputs": [
    {
     "name": "stdout",
     "output_type": "stream",
     "text": [
      "missing data is replaced with median value of column for continuous data and with column mode for categorical data\n"
     ]
    },
    {
     "data": {
      "text/html": [
       "<div>\n",
       "<style scoped>\n",
       "    .dataframe tbody tr th:only-of-type {\n",
       "        vertical-align: middle;\n",
       "    }\n",
       "\n",
       "    .dataframe tbody tr th {\n",
       "        vertical-align: top;\n",
       "    }\n",
       "\n",
       "    .dataframe thead th {\n",
       "        text-align: right;\n",
       "    }\n",
       "</style>\n",
       "<table border=\"1\" class=\"dataframe\">\n",
       "  <thead>\n",
       "    <tr style=\"text-align: right;\">\n",
       "      <th></th>\n",
       "      <th>missing</th>\n",
       "    </tr>\n",
       "  </thead>\n",
       "  <tbody>\n",
       "    <tr>\n",
       "      <th>Month</th>\n",
       "      <td>0</td>\n",
       "    </tr>\n",
       "    <tr>\n",
       "      <th>Age</th>\n",
       "      <td>0</td>\n",
       "    </tr>\n",
       "    <tr>\n",
       "      <th>Occupation</th>\n",
       "      <td>0</td>\n",
       "    </tr>\n",
       "    <tr>\n",
       "      <th>Annual_Income</th>\n",
       "      <td>0</td>\n",
       "    </tr>\n",
       "    <tr>\n",
       "      <th>Monthly_Inhand_Salary</th>\n",
       "      <td>0</td>\n",
       "    </tr>\n",
       "    <tr>\n",
       "      <th>Num_Bank_Accounts</th>\n",
       "      <td>0</td>\n",
       "    </tr>\n",
       "    <tr>\n",
       "      <th>Num_Credit_Card</th>\n",
       "      <td>0</td>\n",
       "    </tr>\n",
       "    <tr>\n",
       "      <th>Interest_Rate</th>\n",
       "      <td>0</td>\n",
       "    </tr>\n",
       "    <tr>\n",
       "      <th>Num_of_Loan</th>\n",
       "      <td>0</td>\n",
       "    </tr>\n",
       "    <tr>\n",
       "      <th>Type_of_Loan</th>\n",
       "      <td>0</td>\n",
       "    </tr>\n",
       "    <tr>\n",
       "      <th>Delay_from_due_date</th>\n",
       "      <td>0</td>\n",
       "    </tr>\n",
       "    <tr>\n",
       "      <th>Num_of_Delayed_Payment</th>\n",
       "      <td>0</td>\n",
       "    </tr>\n",
       "    <tr>\n",
       "      <th>Changed_Credit_Limit</th>\n",
       "      <td>0</td>\n",
       "    </tr>\n",
       "    <tr>\n",
       "      <th>Num_Credit_Inquiries</th>\n",
       "      <td>0</td>\n",
       "    </tr>\n",
       "    <tr>\n",
       "      <th>Credit_Mix</th>\n",
       "      <td>0</td>\n",
       "    </tr>\n",
       "    <tr>\n",
       "      <th>Outstanding_Debt</th>\n",
       "      <td>0</td>\n",
       "    </tr>\n",
       "    <tr>\n",
       "      <th>Credit_Utilization_Ratio</th>\n",
       "      <td>0</td>\n",
       "    </tr>\n",
       "    <tr>\n",
       "      <th>Credit_History_Age</th>\n",
       "      <td>0</td>\n",
       "    </tr>\n",
       "    <tr>\n",
       "      <th>Payment_of_Min_Amount</th>\n",
       "      <td>0</td>\n",
       "    </tr>\n",
       "    <tr>\n",
       "      <th>Total_EMI_per_month</th>\n",
       "      <td>0</td>\n",
       "    </tr>\n",
       "    <tr>\n",
       "      <th>Amount_invested_monthly</th>\n",
       "      <td>0</td>\n",
       "    </tr>\n",
       "    <tr>\n",
       "      <th>Payment_Behaviour</th>\n",
       "      <td>0</td>\n",
       "    </tr>\n",
       "    <tr>\n",
       "      <th>Monthly_Balance</th>\n",
       "      <td>0</td>\n",
       "    </tr>\n",
       "    <tr>\n",
       "      <th>Credit_Score</th>\n",
       "      <td>0</td>\n",
       "    </tr>\n",
       "  </tbody>\n",
       "</table>\n",
       "</div>"
      ],
      "text/plain": [
       "                          missing\n",
       "Month                           0\n",
       "Age                             0\n",
       "Occupation                      0\n",
       "Annual_Income                   0\n",
       "Monthly_Inhand_Salary           0\n",
       "Num_Bank_Accounts               0\n",
       "Num_Credit_Card                 0\n",
       "Interest_Rate                   0\n",
       "Num_of_Loan                     0\n",
       "Type_of_Loan                    0\n",
       "Delay_from_due_date             0\n",
       "Num_of_Delayed_Payment          0\n",
       "Changed_Credit_Limit            0\n",
       "Num_Credit_Inquiries            0\n",
       "Credit_Mix                      0\n",
       "Outstanding_Debt                0\n",
       "Credit_Utilization_Ratio        0\n",
       "Credit_History_Age              0\n",
       "Payment_of_Min_Amount           0\n",
       "Total_EMI_per_month             0\n",
       "Amount_invested_monthly         0\n",
       "Payment_Behaviour               0\n",
       "Monthly_Balance                 0\n",
       "Credit_Score                    0"
      ]
     },
     "execution_count": 28,
     "metadata": {},
     "output_type": "execute_result"
    }
   ],
   "source": [
    "MDT(A)"
   ]
  },
  {
   "cell_type": "code",
   "execution_count": 29,
   "id": "0b390509-98b2-44e7-beee-7f0e62362a55",
   "metadata": {},
   "outputs": [],
   "source": [
    "#A.isna().sum()"
   ]
  },
  {
   "cell_type": "markdown",
   "id": "00e312c6-c90f-47e5-83f2-0d4b63667c9b",
   "metadata": {},
   "source": [
    "###  <p style=\"padding:10px;background-color:Pink ;margin:10;color:#000000;font-family:newtimeroman;font-size:100%;border-radius: 10px 10px ;overflow:hidden;font-weight:50\">Feature Engineering</p>"
   ]
  },
  {
   "cell_type": "markdown",
   "id": "873bc8ac-d31c-4a76-b7ea-f4498609bcc1",
   "metadata": {},
   "source": [
    "### Extracting Age in numbers from the object column"
   ]
  },
  {
   "cell_type": "code",
   "execution_count": 30,
   "id": "63671cb5-978e-4b1e-ab9c-683019e52686",
   "metadata": {},
   "outputs": [],
   "source": [
    "import re"
   ]
  },
  {
   "cell_type": "code",
   "execution_count": 30,
   "id": "b121b7b2-be0b-4f5f-bab5-f57f070eae54",
   "metadata": {},
   "outputs": [
    {
     "data": {
      "text/plain": [
       "('15', '6')"
      ]
     },
     "execution_count": 30,
     "metadata": {},
     "output_type": "execute_result"
    }
   ],
   "source": [
    "l=\"15 Years and 6 Months\"\n",
    "years = re.search(r'(\\d+)\\s*Years?',l)\n",
    "years.group(1)\n",
    "months=re.search(r'(\\d+)\\s*Months?',l)\n",
    "years.group(1),months.group(1)"
   ]
  },
  {
   "cell_type": "code",
   "execution_count": 11,
   "id": "bfa0a41f-f1b3-41c7-b741-42cfa3ab5e3e",
   "metadata": {},
   "outputs": [
    {
     "data": {
      "text/plain": [
       "('15', '6')"
      ]
     },
     "execution_count": 11,
     "metadata": {},
     "output_type": "execute_result"
    }
   ],
   "source": [
    "import re\n",
    "\n",
    "l = \"15 Years and 6 Months\"\n",
    "match = re.search(r'(\\d+)\\s*Years?\\D*(\\d+)\\s*Months?', l)\n",
    "match.groups()"
   ]
  },
  {
   "cell_type": "code",
   "execution_count": null,
   "id": "0bf462bb-ce78-4891-a93d-7f19c0a97a0d",
   "metadata": {},
   "outputs": [],
   "source": []
  },
  {
   "cell_type": "code",
   "execution_count": 32,
   "id": "8031926a-1fcd-44bc-be59-86788d5dc249",
   "metadata": {},
   "outputs": [],
   "source": [
    "credit_age=[]\n",
    "for i in A.Credit_History_Age:\n",
    "    years = re.search(r'(\\d+)\\s*Years?',i)\n",
    "    yr=years.group(1) if years else 0\n",
    "    months=re.search(r'(\\d+)\\s*Months?',i)\n",
    "    m=months.group(1) if months else 0\n",
    "    age=round(int(yr)+(int(m)/12),2)\n",
    "    credit_age.append(age)"
   ]
  },
  {
   "cell_type": "code",
   "execution_count": 33,
   "id": "52d07643-bf0f-41cd-abd5-afdd477f375f",
   "metadata": {},
   "outputs": [],
   "source": [
    "A[\"Credit_History_Age\"]=credit_age"
   ]
  },
  {
   "cell_type": "markdown",
   "id": "db64a01e-3ec6-4e89-8f22-00c01d19a0d4",
   "metadata": {},
   "source": [
    "## <p style=\"padding:10px;background-color:Pink ;margin:10;color:#000000;font-family:newtimeroman;font-size:100%;border-radius: 10px 10px ;overflow:hidden;font-weight:50\">EDA</p>"
   ]
  },
  {
   "cell_type": "code",
   "execution_count": 61,
   "id": "13740ca8-0ff1-4ada-8edc-a6ee253dc88c",
   "metadata": {},
   "outputs": [
    {
     "data": {
      "text/html": [
       "<div>\n",
       "<style scoped>\n",
       "    .dataframe tbody tr th:only-of-type {\n",
       "        vertical-align: middle;\n",
       "    }\n",
       "\n",
       "    .dataframe tbody tr th {\n",
       "        vertical-align: top;\n",
       "    }\n",
       "\n",
       "    .dataframe thead th {\n",
       "        text-align: right;\n",
       "    }\n",
       "</style>\n",
       "<table border=\"1\" class=\"dataframe\">\n",
       "  <thead>\n",
       "    <tr style=\"text-align: right;\">\n",
       "      <th></th>\n",
       "      <th>Age</th>\n",
       "      <th>Annual_Income</th>\n",
       "      <th>Monthly_Inhand_Salary</th>\n",
       "      <th>Num_Bank_Accounts</th>\n",
       "      <th>Num_Credit_Card</th>\n",
       "      <th>Interest_Rate</th>\n",
       "      <th>Delay_from_due_date</th>\n",
       "      <th>Changed_Credit_Limit</th>\n",
       "      <th>Num_Credit_Inquiries</th>\n",
       "      <th>Outstanding_Debt</th>\n",
       "      <th>Credit_Utilization_Ratio</th>\n",
       "      <th>Credit_History_Age</th>\n",
       "      <th>Total_EMI_per_month</th>\n",
       "      <th>Amount_invested_monthly</th>\n",
       "      <th>Monthly_Balance</th>\n",
       "    </tr>\n",
       "  </thead>\n",
       "  <tbody>\n",
       "    <tr>\n",
       "      <th>Age</th>\n",
       "      <td>1.000000</td>\n",
       "      <td>0.089686</td>\n",
       "      <td>0.072557</td>\n",
       "      <td>-0.185353</td>\n",
       "      <td>-0.143170</td>\n",
       "      <td>-0.210560</td>\n",
       "      <td>-0.171238</td>\n",
       "      <td>-0.155674</td>\n",
       "      <td>-0.241232</td>\n",
       "      <td>-0.201532</td>\n",
       "      <td>0.024676</td>\n",
       "      <td>0.220140</td>\n",
       "      <td>-0.073191</td>\n",
       "      <td>0.045154</td>\n",
       "      <td>0.110414</td>\n",
       "    </tr>\n",
       "    <tr>\n",
       "      <th>Annual_Income</th>\n",
       "      <td>0.089686</td>\n",
       "      <td>1.000000</td>\n",
       "      <td>0.838999</td>\n",
       "      <td>-0.257601</td>\n",
       "      <td>-0.203730</td>\n",
       "      <td>-0.280025</td>\n",
       "      <td>-0.228634</td>\n",
       "      <td>-0.151097</td>\n",
       "      <td>-0.260608</td>\n",
       "      <td>-0.265300</td>\n",
       "      <td>0.159013</td>\n",
       "      <td>0.247992</td>\n",
       "      <td>0.456632</td>\n",
       "      <td>0.497619</td>\n",
       "      <td>0.518865</td>\n",
       "    </tr>\n",
       "    <tr>\n",
       "      <th>Monthly_Inhand_Salary</th>\n",
       "      <td>0.072557</td>\n",
       "      <td>0.838999</td>\n",
       "      <td>1.000000</td>\n",
       "      <td>-0.214688</td>\n",
       "      <td>-0.175269</td>\n",
       "      <td>-0.242290</td>\n",
       "      <td>-0.195921</td>\n",
       "      <td>-0.125180</td>\n",
       "      <td>-0.226726</td>\n",
       "      <td>-0.234397</td>\n",
       "      <td>0.128426</td>\n",
       "      <td>0.215842</td>\n",
       "      <td>0.426554</td>\n",
       "      <td>0.459339</td>\n",
       "      <td>0.489784</td>\n",
       "    </tr>\n",
       "    <tr>\n",
       "      <th>Num_Bank_Accounts</th>\n",
       "      <td>-0.185353</td>\n",
       "      <td>-0.257601</td>\n",
       "      <td>-0.214688</td>\n",
       "      <td>1.000000</td>\n",
       "      <td>0.432043</td>\n",
       "      <td>0.570645</td>\n",
       "      <td>0.546056</td>\n",
       "      <td>0.314032</td>\n",
       "      <td>0.501360</td>\n",
       "      <td>0.494039</td>\n",
       "      <td>-0.070932</td>\n",
       "      <td>-0.456507</td>\n",
       "      <td>0.096347</td>\n",
       "      <td>-0.146227</td>\n",
       "      <td>-0.266845</td>\n",
       "    </tr>\n",
       "    <tr>\n",
       "      <th>Num_Credit_Card</th>\n",
       "      <td>-0.143170</td>\n",
       "      <td>-0.203730</td>\n",
       "      <td>-0.175269</td>\n",
       "      <td>0.432043</td>\n",
       "      <td>1.000000</td>\n",
       "      <td>0.481997</td>\n",
       "      <td>0.454967</td>\n",
       "      <td>0.230865</td>\n",
       "      <td>0.440196</td>\n",
       "      <td>0.469874</td>\n",
       "      <td>-0.054606</td>\n",
       "      <td>-0.389525</td>\n",
       "      <td>0.102438</td>\n",
       "      <td>-0.114933</td>\n",
       "      <td>-0.223888</td>\n",
       "    </tr>\n",
       "    <tr>\n",
       "      <th>Interest_Rate</th>\n",
       "      <td>-0.210560</td>\n",
       "      <td>-0.280025</td>\n",
       "      <td>-0.242290</td>\n",
       "      <td>0.570645</td>\n",
       "      <td>0.481997</td>\n",
       "      <td>1.000000</td>\n",
       "      <td>0.556020</td>\n",
       "      <td>0.342478</td>\n",
       "      <td>0.609085</td>\n",
       "      <td>0.620662</td>\n",
       "      <td>-0.075321</td>\n",
       "      <td>-0.541573</td>\n",
       "      <td>0.133230</td>\n",
       "      <td>-0.163277</td>\n",
       "      <td>-0.303011</td>\n",
       "    </tr>\n",
       "    <tr>\n",
       "      <th>Delay_from_due_date</th>\n",
       "      <td>-0.171238</td>\n",
       "      <td>-0.228634</td>\n",
       "      <td>-0.195921</td>\n",
       "      <td>0.546056</td>\n",
       "      <td>0.454967</td>\n",
       "      <td>0.556020</td>\n",
       "      <td>1.000000</td>\n",
       "      <td>0.274308</td>\n",
       "      <td>0.505748</td>\n",
       "      <td>0.527630</td>\n",
       "      <td>-0.063642</td>\n",
       "      <td>-0.452361</td>\n",
       "      <td>0.125913</td>\n",
       "      <td>-0.133475</td>\n",
       "      <td>-0.258664</td>\n",
       "    </tr>\n",
       "    <tr>\n",
       "      <th>Changed_Credit_Limit</th>\n",
       "      <td>-0.155674</td>\n",
       "      <td>-0.151097</td>\n",
       "      <td>-0.125180</td>\n",
       "      <td>0.314032</td>\n",
       "      <td>0.230865</td>\n",
       "      <td>0.342478</td>\n",
       "      <td>0.274308</td>\n",
       "      <td>1.000000</td>\n",
       "      <td>0.355910</td>\n",
       "      <td>0.364136</td>\n",
       "      <td>-0.046394</td>\n",
       "      <td>-0.383757</td>\n",
       "      <td>0.101318</td>\n",
       "      <td>-0.090531</td>\n",
       "      <td>-0.176846</td>\n",
       "    </tr>\n",
       "    <tr>\n",
       "      <th>Num_Credit_Inquiries</th>\n",
       "      <td>-0.241232</td>\n",
       "      <td>-0.260608</td>\n",
       "      <td>-0.226726</td>\n",
       "      <td>0.501360</td>\n",
       "      <td>0.440196</td>\n",
       "      <td>0.609085</td>\n",
       "      <td>0.505748</td>\n",
       "      <td>0.355910</td>\n",
       "      <td>1.000000</td>\n",
       "      <td>0.584848</td>\n",
       "      <td>-0.073296</td>\n",
       "      <td>-0.566253</td>\n",
       "      <td>0.152802</td>\n",
       "      <td>-0.146213</td>\n",
       "      <td>-0.296319</td>\n",
       "    </tr>\n",
       "    <tr>\n",
       "      <th>Outstanding_Debt</th>\n",
       "      <td>-0.201532</td>\n",
       "      <td>-0.265300</td>\n",
       "      <td>-0.234397</td>\n",
       "      <td>0.494039</td>\n",
       "      <td>0.469874</td>\n",
       "      <td>0.620662</td>\n",
       "      <td>0.527630</td>\n",
       "      <td>0.364136</td>\n",
       "      <td>0.584848</td>\n",
       "      <td>1.000000</td>\n",
       "      <td>-0.073920</td>\n",
       "      <td>-0.571652</td>\n",
       "      <td>0.155203</td>\n",
       "      <td>-0.146984</td>\n",
       "      <td>-0.315431</td>\n",
       "    </tr>\n",
       "    <tr>\n",
       "      <th>Credit_Utilization_Ratio</th>\n",
       "      <td>0.024676</td>\n",
       "      <td>0.159013</td>\n",
       "      <td>0.128426</td>\n",
       "      <td>-0.070932</td>\n",
       "      <td>-0.054606</td>\n",
       "      <td>-0.075321</td>\n",
       "      <td>-0.063642</td>\n",
       "      <td>-0.046394</td>\n",
       "      <td>-0.073296</td>\n",
       "      <td>-0.073920</td>\n",
       "      <td>1.000000</td>\n",
       "      <td>0.070413</td>\n",
       "      <td>0.014258</td>\n",
       "      <td>0.023458</td>\n",
       "      <td>0.174582</td>\n",
       "    </tr>\n",
       "    <tr>\n",
       "      <th>Credit_History_Age</th>\n",
       "      <td>0.220140</td>\n",
       "      <td>0.247992</td>\n",
       "      <td>0.215842</td>\n",
       "      <td>-0.456507</td>\n",
       "      <td>-0.389525</td>\n",
       "      <td>-0.541573</td>\n",
       "      <td>-0.452361</td>\n",
       "      <td>-0.383757</td>\n",
       "      <td>-0.566253</td>\n",
       "      <td>-0.571652</td>\n",
       "      <td>0.070413</td>\n",
       "      <td>1.000000</td>\n",
       "      <td>-0.170722</td>\n",
       "      <td>0.144471</td>\n",
       "      <td>0.300789</td>\n",
       "    </tr>\n",
       "    <tr>\n",
       "      <th>Total_EMI_per_month</th>\n",
       "      <td>-0.073191</td>\n",
       "      <td>0.456632</td>\n",
       "      <td>0.426554</td>\n",
       "      <td>0.096347</td>\n",
       "      <td>0.102438</td>\n",
       "      <td>0.133230</td>\n",
       "      <td>0.125913</td>\n",
       "      <td>0.101318</td>\n",
       "      <td>0.152802</td>\n",
       "      <td>0.155203</td>\n",
       "      <td>0.014258</td>\n",
       "      <td>-0.170722</td>\n",
       "      <td>1.000000</td>\n",
       "      <td>0.273033</td>\n",
       "      <td>0.051523</td>\n",
       "    </tr>\n",
       "    <tr>\n",
       "      <th>Amount_invested_monthly</th>\n",
       "      <td>0.045154</td>\n",
       "      <td>0.497619</td>\n",
       "      <td>0.459339</td>\n",
       "      <td>-0.146227</td>\n",
       "      <td>-0.114933</td>\n",
       "      <td>-0.163277</td>\n",
       "      <td>-0.133475</td>\n",
       "      <td>-0.090531</td>\n",
       "      <td>-0.146213</td>\n",
       "      <td>-0.146984</td>\n",
       "      <td>0.023458</td>\n",
       "      <td>0.144471</td>\n",
       "      <td>0.273033</td>\n",
       "      <td>1.000000</td>\n",
       "      <td>-0.001937</td>\n",
       "    </tr>\n",
       "    <tr>\n",
       "      <th>Monthly_Balance</th>\n",
       "      <td>0.110414</td>\n",
       "      <td>0.518865</td>\n",
       "      <td>0.489784</td>\n",
       "      <td>-0.266845</td>\n",
       "      <td>-0.223888</td>\n",
       "      <td>-0.303011</td>\n",
       "      <td>-0.258664</td>\n",
       "      <td>-0.176846</td>\n",
       "      <td>-0.296319</td>\n",
       "      <td>-0.315431</td>\n",
       "      <td>0.174582</td>\n",
       "      <td>0.300789</td>\n",
       "      <td>0.051523</td>\n",
       "      <td>-0.001937</td>\n",
       "      <td>1.000000</td>\n",
       "    </tr>\n",
       "  </tbody>\n",
       "</table>\n",
       "</div>"
      ],
      "text/plain": [
       "                               Age  Annual_Income  Monthly_Inhand_Salary  \\\n",
       "Age                       1.000000       0.089686               0.072557   \n",
       "Annual_Income             0.089686       1.000000               0.838999   \n",
       "Monthly_Inhand_Salary     0.072557       0.838999               1.000000   \n",
       "Num_Bank_Accounts        -0.185353      -0.257601              -0.214688   \n",
       "Num_Credit_Card          -0.143170      -0.203730              -0.175269   \n",
       "Interest_Rate            -0.210560      -0.280025              -0.242290   \n",
       "Delay_from_due_date      -0.171238      -0.228634              -0.195921   \n",
       "Changed_Credit_Limit     -0.155674      -0.151097              -0.125180   \n",
       "Num_Credit_Inquiries     -0.241232      -0.260608              -0.226726   \n",
       "Outstanding_Debt         -0.201532      -0.265300              -0.234397   \n",
       "Credit_Utilization_Ratio  0.024676       0.159013               0.128426   \n",
       "Credit_History_Age        0.220140       0.247992               0.215842   \n",
       "Total_EMI_per_month      -0.073191       0.456632               0.426554   \n",
       "Amount_invested_monthly   0.045154       0.497619               0.459339   \n",
       "Monthly_Balance           0.110414       0.518865               0.489784   \n",
       "\n",
       "                          Num_Bank_Accounts  Num_Credit_Card  Interest_Rate  \\\n",
       "Age                               -0.185353        -0.143170      -0.210560   \n",
       "Annual_Income                     -0.257601        -0.203730      -0.280025   \n",
       "Monthly_Inhand_Salary             -0.214688        -0.175269      -0.242290   \n",
       "Num_Bank_Accounts                  1.000000         0.432043       0.570645   \n",
       "Num_Credit_Card                    0.432043         1.000000       0.481997   \n",
       "Interest_Rate                      0.570645         0.481997       1.000000   \n",
       "Delay_from_due_date                0.546056         0.454967       0.556020   \n",
       "Changed_Credit_Limit               0.314032         0.230865       0.342478   \n",
       "Num_Credit_Inquiries               0.501360         0.440196       0.609085   \n",
       "Outstanding_Debt                   0.494039         0.469874       0.620662   \n",
       "Credit_Utilization_Ratio          -0.070932        -0.054606      -0.075321   \n",
       "Credit_History_Age                -0.456507        -0.389525      -0.541573   \n",
       "Total_EMI_per_month                0.096347         0.102438       0.133230   \n",
       "Amount_invested_monthly           -0.146227        -0.114933      -0.163277   \n",
       "Monthly_Balance                   -0.266845        -0.223888      -0.303011   \n",
       "\n",
       "                          Delay_from_due_date  Changed_Credit_Limit  \\\n",
       "Age                                 -0.171238             -0.155674   \n",
       "Annual_Income                       -0.228634             -0.151097   \n",
       "Monthly_Inhand_Salary               -0.195921             -0.125180   \n",
       "Num_Bank_Accounts                    0.546056              0.314032   \n",
       "Num_Credit_Card                      0.454967              0.230865   \n",
       "Interest_Rate                        0.556020              0.342478   \n",
       "Delay_from_due_date                  1.000000              0.274308   \n",
       "Changed_Credit_Limit                 0.274308              1.000000   \n",
       "Num_Credit_Inquiries                 0.505748              0.355910   \n",
       "Outstanding_Debt                     0.527630              0.364136   \n",
       "Credit_Utilization_Ratio            -0.063642             -0.046394   \n",
       "Credit_History_Age                  -0.452361             -0.383757   \n",
       "Total_EMI_per_month                  0.125913              0.101318   \n",
       "Amount_invested_monthly             -0.133475             -0.090531   \n",
       "Monthly_Balance                     -0.258664             -0.176846   \n",
       "\n",
       "                          Num_Credit_Inquiries  Outstanding_Debt  \\\n",
       "Age                                  -0.241232         -0.201532   \n",
       "Annual_Income                        -0.260608         -0.265300   \n",
       "Monthly_Inhand_Salary                -0.226726         -0.234397   \n",
       "Num_Bank_Accounts                     0.501360          0.494039   \n",
       "Num_Credit_Card                       0.440196          0.469874   \n",
       "Interest_Rate                         0.609085          0.620662   \n",
       "Delay_from_due_date                   0.505748          0.527630   \n",
       "Changed_Credit_Limit                  0.355910          0.364136   \n",
       "Num_Credit_Inquiries                  1.000000          0.584848   \n",
       "Outstanding_Debt                      0.584848          1.000000   \n",
       "Credit_Utilization_Ratio             -0.073296         -0.073920   \n",
       "Credit_History_Age                   -0.566253         -0.571652   \n",
       "Total_EMI_per_month                   0.152802          0.155203   \n",
       "Amount_invested_monthly              -0.146213         -0.146984   \n",
       "Monthly_Balance                      -0.296319         -0.315431   \n",
       "\n",
       "                          Credit_Utilization_Ratio  Credit_History_Age  \\\n",
       "Age                                       0.024676            0.220140   \n",
       "Annual_Income                             0.159013            0.247992   \n",
       "Monthly_Inhand_Salary                     0.128426            0.215842   \n",
       "Num_Bank_Accounts                        -0.070932           -0.456507   \n",
       "Num_Credit_Card                          -0.054606           -0.389525   \n",
       "Interest_Rate                            -0.075321           -0.541573   \n",
       "Delay_from_due_date                      -0.063642           -0.452361   \n",
       "Changed_Credit_Limit                     -0.046394           -0.383757   \n",
       "Num_Credit_Inquiries                     -0.073296           -0.566253   \n",
       "Outstanding_Debt                         -0.073920           -0.571652   \n",
       "Credit_Utilization_Ratio                  1.000000            0.070413   \n",
       "Credit_History_Age                        0.070413            1.000000   \n",
       "Total_EMI_per_month                       0.014258           -0.170722   \n",
       "Amount_invested_monthly                   0.023458            0.144471   \n",
       "Monthly_Balance                           0.174582            0.300789   \n",
       "\n",
       "                          Total_EMI_per_month  Amount_invested_monthly  \\\n",
       "Age                                 -0.073191                 0.045154   \n",
       "Annual_Income                        0.456632                 0.497619   \n",
       "Monthly_Inhand_Salary                0.426554                 0.459339   \n",
       "Num_Bank_Accounts                    0.096347                -0.146227   \n",
       "Num_Credit_Card                      0.102438                -0.114933   \n",
       "Interest_Rate                        0.133230                -0.163277   \n",
       "Delay_from_due_date                  0.125913                -0.133475   \n",
       "Changed_Credit_Limit                 0.101318                -0.090531   \n",
       "Num_Credit_Inquiries                 0.152802                -0.146213   \n",
       "Outstanding_Debt                     0.155203                -0.146984   \n",
       "Credit_Utilization_Ratio             0.014258                 0.023458   \n",
       "Credit_History_Age                  -0.170722                 0.144471   \n",
       "Total_EMI_per_month                  1.000000                 0.273033   \n",
       "Amount_invested_monthly              0.273033                 1.000000   \n",
       "Monthly_Balance                      0.051523                -0.001937   \n",
       "\n",
       "                          Monthly_Balance  \n",
       "Age                              0.110414  \n",
       "Annual_Income                    0.518865  \n",
       "Monthly_Inhand_Salary            0.489784  \n",
       "Num_Bank_Accounts               -0.266845  \n",
       "Num_Credit_Card                 -0.223888  \n",
       "Interest_Rate                   -0.303011  \n",
       "Delay_from_due_date             -0.258664  \n",
       "Changed_Credit_Limit            -0.176846  \n",
       "Num_Credit_Inquiries            -0.296319  \n",
       "Outstanding_Debt                -0.315431  \n",
       "Credit_Utilization_Ratio         0.174582  \n",
       "Credit_History_Age               0.300789  \n",
       "Total_EMI_per_month              0.051523  \n",
       "Amount_invested_monthly         -0.001937  \n",
       "Monthly_Balance                  1.000000  "
      ]
     },
     "execution_count": 61,
     "metadata": {},
     "output_type": "execute_result"
    }
   ],
   "source": [
    "A.corr(numeric_only=True)"
   ]
  },
  {
   "cell_type": "code",
   "execution_count": 62,
   "id": "bcef4a49-4225-4c9e-a05d-c428b4b51c15",
   "metadata": {},
   "outputs": [
    {
     "data": {
      "text/plain": [
       "<Axes: >"
      ]
     },
     "execution_count": 62,
     "metadata": {},
     "output_type": "execute_result"
    },
    {
     "data": {
      "image/png": "[encoded data removed]",
      "text/plain": [
       "<Figure size 640x480 with 2 Axes>"
      ]
     },
     "metadata": {},
     "output_type": "display_data"
    }
   ],
   "source": [
    "sb.heatmap(A.corr(numeric_only=True),cmap='coolwarm')"
   ]
  },
  {
   "cell_type": "code",
   "execution_count": 63,
   "id": "726d31a9-7256-4225-bd45-128aed0af2f8",
   "metadata": {},
   "outputs": [
    {
     "data": {
      "text/plain": [
       "<Axes: xlabel='Credit_Score', ylabel='Age'>"
      ]
     },
     "execution_count": 63,
     "metadata": {},
     "output_type": "execute_result"
    },
    {
     "data": {
      "image/png": "[encoded data removed]",
      "text/plain": [
       "<Figure size 640x480 with 1 Axes>"
      ]
     },
     "metadata": {},
     "output_type": "display_data"
    }
   ],
   "source": [
    "sb.boxplot(x=A.Credit_Score,y=A.Age)"
   ]
  },
  {
   "cell_type": "code",
   "execution_count": 64,
   "id": "27daed1a-776c-4a5c-999a-3b578e2981e8",
   "metadata": {},
   "outputs": [
    {
     "data": {
      "text/plain": [
       "<Axes: xlabel='Credit_Score', ylabel='Outstanding_Debt'>"
      ]
     },
     "execution_count": 64,
     "metadata": {},
     "output_type": "execute_result"
    },
    {
     "data": {
      "image/png": "[encoded data removed]",
      "text/plain": [
       "<Figure size 640x480 with 1 Axes>"
      ]
     },
     "metadata": {},
     "output_type": "display_data"
    }
   ],
   "source": [
    "sb.boxplot(x=A.Credit_Score,y=A.Outstanding_Debt)"
   ]
  },
  {
   "cell_type": "code",
   "execution_count": 65,
   "id": "20991067-4e5a-4aed-ba5d-4159750319c4",
   "metadata": {},
   "outputs": [
    {
     "data": {
      "text/plain": [
       "<Axes: xlabel='Credit_Score', ylabel='Credit_History_Age'>"
      ]
     },
     "execution_count": 65,
     "metadata": {},
     "output_type": "execute_result"
    },
    {
     "data": {
      "image/png": "[encoded data removed]",
      "text/plain": [
       "<Figure size 640x480 with 1 Axes>"
      ]
     },
     "metadata": {},
     "output_type": "display_data"
    }
   ],
   "source": [
    "sb.boxplot(x=A.Credit_Score,y=A.Credit_History_Age)"
   ]
  },
  {
   "cell_type": "markdown",
   "id": "f2658235-bbee-443b-a917-71e5d7e632e1",
   "metadata": {},
   "source": [
    "###  <p style=\"padding:10px;background-color:yellow ;margin:10;color:#000000;font-family:newtimeroman;font-size:100%;border-radius: 10px 10px ;overflow:hidden;font-weight:50\">We can observe valuable difference in all three plots. Hence Credit History Age and outstanding deptcan be good predictors for credit score</p>"
   ]
  },
  {
   "cell_type": "code",
   "execution_count": 66,
   "id": "c63676d6-9df3-4d2b-8ac8-f977bf61162b",
   "metadata": {},
   "outputs": [
    {
     "data": {
      "text/plain": [
       "<Axes: xlabel='Credit_Score', ylabel='Credit_Utilization_Ratio'>"
      ]
     },
     "execution_count": 66,
     "metadata": {},
     "output_type": "execute_result"
    },
    {
     "data": {
      "image/png": "[encoded data removed]",
      "text/plain": [
       "<Figure size 640x480 with 1 Axes>"
      ]
     },
     "metadata": {},
     "output_type": "display_data"
    }
   ],
   "source": [
    "sb.boxplot(x=A.Credit_Score,y=A.Credit_Utilization_Ratio)"
   ]
  },
  {
   "cell_type": "markdown",
   "id": "83f4421f-9158-48bd-b8b2-711ee1c60039",
   "metadata": {},
   "source": [
    "###  <p style=\"padding:10px;background-color:yellow ;margin:10;color:#000000;font-family:newtimeroman;font-size:100%;border-radius: 10px 10px ;overflow:hidden;font-weight:50\">There is not much affect of Credit ratio on Credit Score category</p>"
   ]
  },
  {
   "cell_type": "code",
   "execution_count": null,
   "id": "2a529539-9cac-4c20-867b-39026326eb50",
   "metadata": {},
   "outputs": [],
   "source": []
  },
  {
   "cell_type": "markdown",
   "id": "81d8a395-b3a5-4d05-9fa3-19ec061ce6df",
   "metadata": {},
   "source": [
    "## Skewness Treatment "
   ]
  },
  {
   "cell_type": "code",
   "execution_count": 34,
   "id": "cd0f4c1b-b298-4d36-986b-ea91d1ca0f61",
   "metadata": {},
   "outputs": [],
   "source": [
    "skewcol=[]\n",
    "for i in A.select_dtypes(exclude='object').columns:\n",
    "    if((A[i].skew()>2) | (A[i].skew()<-2)):\n",
    "        skewcol.append(i)"
   ]
  },
  {
   "cell_type": "code",
   "execution_count": 35,
   "id": "e7ed6a5b-7c22-42aa-953c-d6342ec1d4cd",
   "metadata": {},
   "outputs": [
    {
     "data": {
      "text/plain": [
       "['Annual_Income',\n",
       " 'Num_Bank_Accounts',\n",
       " 'Num_Credit_Card',\n",
       " 'Interest_Rate',\n",
       " 'Num_Credit_Inquiries',\n",
       " 'Total_EMI_per_month',\n",
       " 'Amount_invested_monthly']"
      ]
     },
     "execution_count": 35,
     "metadata": {},
     "output_type": "execute_result"
    }
   ],
   "source": [
    "skewcol"
   ]
  },
  {
   "cell_type": "markdown",
   "id": "19a7eb97-db7e-4efb-b84d-565d22e30751",
   "metadata": {},
   "source": [
    "## Outlier Detection"
   ]
  },
  {
   "cell_type": "code",
   "execution_count": 36,
   "id": "2f8d6646-3cf6-4e2c-99fc-dbfeb58177f2",
   "metadata": {},
   "outputs": [
    {
     "data": {
      "text/plain": [
       "((100000, 15), (100000, 9))"
      ]
     },
     "execution_count": 36,
     "metadata": {},
     "output_type": "execute_result"
    }
   ],
   "source": [
    "xcont=A.select_dtypes(exclude='object')\n",
    "xcat=A.select_dtypes(include='object')\n",
    "xcont.shape,xcat.shape"
   ]
  },
  {
   "cell_type": "code",
   "execution_count": 37,
   "id": "66ff09e6-1b2d-4de4-b33e-8c4e38982dca",
   "metadata": {},
   "outputs": [
    {
     "name": "stdout",
     "output_type": "stream",
     "text": [
      "                      Number of Outliers                \n",
      "Age  --  7\n",
      "Annual_Income  --  2783\n",
      "Monthly_Inhand_Salary  --  4365\n",
      "Num_Bank_Accounts  --  1315\n",
      "Num_Credit_Card  --  2271\n",
      "Interest_Rate  --  2034\n",
      "Delay_from_due_date  --  4002\n",
      "Changed_Credit_Limit  --  1472\n",
      "Num_Credit_Inquiries  --  1650\n",
      "Outstanding_Debt  --  5272\n",
      "Credit_Utilization_Ratio  --  4\n",
      "Credit_History_Age  --  0\n",
      "Total_EMI_per_month  --  6795\n",
      "Amount_invested_monthly  --  9211\n",
      "Monthly_Balance  --  7864\n"
     ]
    }
   ],
   "source": [
    "print(\"                      Number of Outliers                \")\n",
    "for i in xcont.columns:\n",
    "    q1=xcont[i].quantile(0.25)\n",
    "    q3=xcont[i].quantile(0.75)\n",
    "    iqr=q3-q1\n",
    "    th=iqr*1.5\n",
    "    print(i,\" -- \",xcont[i][(xcont[i]< q1 - th) | (xcont[i]> q3 + th)].count())"
   ]
  },
  {
   "cell_type": "code",
   "execution_count": 38,
   "id": "a106b7c9-8900-4109-a4c3-c4685e9cb40a",
   "metadata": {},
   "outputs": [
    {
     "name": "stdout",
     "output_type": "stream",
     "text": [
      "                      Number of Outliers                \n",
      "Age  --  0\n",
      "Annual_Income  --  0\n",
      "Monthly_Inhand_Salary  --  0\n",
      "Num_Bank_Accounts  --  0\n",
      "Num_Credit_Card  --  0\n",
      "Interest_Rate  --  0\n",
      "Delay_from_due_date  --  0\n",
      "Changed_Credit_Limit  --  0\n",
      "Num_Credit_Inquiries  --  0\n",
      "Outstanding_Debt  --  0\n",
      "Credit_Utilization_Ratio  --  0\n",
      "Credit_History_Age  --  0\n",
      "Total_EMI_per_month  --  0\n",
      "Amount_invested_monthly  --  0\n",
      "Monthly_Balance  --  0\n"
     ]
    }
   ],
   "source": [
    " print(\"                      Number of Outliers                \")\n",
    "for i in xcont.columns:\n",
    "    q1=xcont[i].quantile(0.25)\n",
    "    q3=xcont[i].quantile(0.75)\n",
    "    iqr=q3-q1\n",
    "    th=iqr*1.5\n",
    "    xcont[i][xcont[i]<q1-th]=q1\n",
    "    xcont[i][xcont[i]>q3+th]=q3\n",
    "    print(i,\" -- \",xcont[i][(xcont[i]< q1 - th) | (xcont[i]> q3 + th)].count())"
   ]
  },
  {
   "cell_type": "markdown",
   "id": "21d3ed65-a1e4-4fa8-ae13-08fba3aeb2ac",
   "metadata": {},
   "source": [
    "##  <p style=\"padding:10px;background-color:Pink ;margin:10;color:#000000;font-family:newtimeroman;font-size:100%;border-radius: 10px 10px ;overflow:hidden;font-weight:50\">Preprocessing</p>"
   ]
  },
  {
   "cell_type": "code",
   "execution_count": 39,
   "id": "f8802831-233e-436b-90dd-9623288b0cec",
   "metadata": {},
   "outputs": [],
   "source": [
    "from hiteshmodule import preprocessing\n",
    "A=pd.concat([xcont,xcat],axis=1)"
   ]
  },
  {
   "cell_type": "code",
   "execution_count": 40,
   "id": "892b65b4-eb1d-4df0-b967-a2f44c2f573e",
   "metadata": {},
   "outputs": [],
   "source": [
    "y=A[\"Credit_Score\"]\n",
    "x=A.drop(\"Credit_Score\",axis=1)"
   ]
  },
  {
   "cell_type": "code",
   "execution_count": 41,
   "id": "b6342c4e-60d7-44c6-997e-da379e83ee55",
   "metadata": {},
   "outputs": [
    {
     "name": "stdout",
     "output_type": "stream",
     "text": [
      "continuous data is standardized using minmax scalar and categorical data is one hot encoded\n"
     ]
    }
   ],
   "source": [
    "xnew=preprocessing(x)"
   ]
  },
  {
   "cell_type": "code",
   "execution_count": 42,
   "id": "5709ae76-5e8d-4e4e-83bf-0447c8789c23",
   "metadata": {},
   "outputs": [
    {
     "data": {
      "text/plain": [
       "(100000, 7426)"
      ]
     },
     "execution_count": 42,
     "metadata": {},
     "output_type": "execute_result"
    }
   ],
   "source": [
    "xnew.shape"
   ]
  },
  {
   "cell_type": "code",
   "execution_count": 43,
   "id": "0e29b490-920a-44f9-97f6-7b8202063ec2",
   "metadata": {},
   "outputs": [],
   "source": [
    "from sklearn.preprocessing import LabelEncoder\n",
    "le=LabelEncoder()\n",
    "ynew=le.fit_transform(y)"
   ]
  },
  {
   "cell_type": "code",
   "execution_count": 44,
   "id": "41b431f7-e34b-4b97-9f83-583d6d781338",
   "metadata": {},
   "outputs": [],
   "source": [
    "from sklearn.model_selection import train_test_split\n",
    "xtr,xts,ytr,yts=train_test_split(xnew,ynew,test_size=0.2,random_state=50,stratify=ynew)"
   ]
  },
  {
   "cell_type": "markdown",
   "id": "790aa3a0-8a11-461a-a38e-48d5e1044812",
   "metadata": {},
   "source": [
    "##  <p style=\"padding:10px;background-color:Pink ;margin:10;color:#000000;font-family:newtimeroman;font-size:100%;border-radius: 10px 10px ;overflow:hidden;font-weight:50\">Model Building</p>"
   ]
  },
  {
   "cell_type": "markdown",
   "id": "2a9abed8-b435-4f37-973b-ee0062a0534b",
   "metadata": {},
   "source": [
    "### i) Logistic Regression"
   ]
  },
  {
   "cell_type": "code",
   "execution_count": 45,
   "id": "a1ad1a22-32d1-44ef-90a8-483dc1d10ad7",
   "metadata": {},
   "outputs": [
    {
     "name": "stdout",
     "output_type": "stream",
     "text": [
      "Training accuracy-- 0.761825\n",
      "Testing accuracy-- 0.7334\n",
      "Recall-- 0.7334\n"
     ]
    }
   ],
   "source": [
    "from sklearn.linear_model import LogisticRegression\n",
    "lr=LogisticRegression(solver='saga',max_iter=500)\n",
    "from hiteshmodule import mfit_multiclassifier\n",
    "mfit_multiclassifier(lr,xtr,xts,ytr,yts)"
   ]
  },
  {
   "cell_type": "markdown",
   "id": "b3a27756-02ce-4c7e-aa0d-3f70669e3b6c",
   "metadata": {},
   "source": [
    "### ii) CATBoost Classifier"
   ]
  },
  {
   "cell_type": "code",
   "execution_count": 46,
   "id": "366336fe-f07a-49a2-896c-5d9442c1a288",
   "metadata": {},
   "outputs": [
    {
     "name": "stdout",
     "output_type": "stream",
     "text": [
      "0:\tlearn: 1.0337778\ttotal: 1.32s\tremaining: 3h 40m 33s\n",
      "100:\tlearn: 0.6197399\ttotal: 1m 40s\tremaining: 2h 43m 57s\n",
      "200:\tlearn: 0.6081490\ttotal: 3m 18s\tremaining: 2h 41m 13s\n",
      "300:\tlearn: 0.5978812\ttotal: 5m 3s\tremaining: 2h 42m 54s\n",
      "400:\tlearn: 0.5873706\ttotal: 6m 43s\tremaining: 2h 41m 4s\n",
      "500:\tlearn: 0.5802989\ttotal: 8m 24s\tremaining: 2h 39m 23s\n",
      "600:\tlearn: 0.5709451\ttotal: 10m 6s\tremaining: 2h 38m 1s\n",
      "700:\tlearn: 0.5633751\ttotal: 11m 46s\tremaining: 2h 36m 5s\n",
      "800:\tlearn: 0.5562226\ttotal: 13m 26s\tremaining: 2h 34m 19s\n",
      "900:\tlearn: 0.5509917\ttotal: 15m 5s\tremaining: 2h 32m 21s\n",
      "1000:\tlearn: 0.5457442\ttotal: 16m 43s\tremaining: 2h 30m 21s\n",
      "1100:\tlearn: 0.5404978\ttotal: 18m 22s\tremaining: 2h 28m 28s\n",
      "1200:\tlearn: 0.5358121\ttotal: 19m 59s\tremaining: 2h 26m 30s\n",
      "1300:\tlearn: 0.5304594\ttotal: 21m 38s\tremaining: 2h 24m 39s\n",
      "1400:\tlearn: 0.5248083\ttotal: 23m 15s\tremaining: 2h 22m 44s\n",
      "1500:\tlearn: 0.5202951\ttotal: 24m 53s\tremaining: 2h 20m 58s\n",
      "1600:\tlearn: 0.5156817\ttotal: 26m 31s\tremaining: 2h 19m 7s\n",
      "1700:\tlearn: 0.5114978\ttotal: 28m 8s\tremaining: 2h 17m 20s\n",
      "1800:\tlearn: 0.5058856\ttotal: 29m 46s\tremaining: 2h 15m 32s\n",
      "1900:\tlearn: 0.5011286\ttotal: 31m 24s\tremaining: 2h 13m 48s\n",
      "2000:\tlearn: 0.4966798\ttotal: 33m 3s\tremaining: 2h 12m 7s\n",
      "2100:\tlearn: 0.4925961\ttotal: 34m 53s\tremaining: 2h 11m 8s\n",
      "2200:\tlearn: 0.4892022\ttotal: 36m 53s\tremaining: 2h 10m 44s\n",
      "2300:\tlearn: 0.4863055\ttotal: 38m 34s\tremaining: 2h 9m 2s\n",
      "2400:\tlearn: 0.4818083\ttotal: 40m 17s\tremaining: 2h 7m 30s\n",
      "2500:\tlearn: 0.4787334\ttotal: 41m 56s\tremaining: 2h 5m 44s\n",
      "2600:\tlearn: 0.4745477\ttotal: 43m 35s\tremaining: 2h 4m 1s\n",
      "2700:\tlearn: 0.4697879\ttotal: 45m 14s\tremaining: 2h 2m 16s\n",
      "2800:\tlearn: 0.4665828\ttotal: 46m 52s\tremaining: 2h 28s\n",
      "2900:\tlearn: 0.4633401\ttotal: 48m 30s\tremaining: 1h 58m 41s\n",
      "3000:\tlearn: 0.4599959\ttotal: 50m 8s\tremaining: 1h 56m 55s\n",
      "3100:\tlearn: 0.4573378\ttotal: 51m 45s\tremaining: 1h 55m 8s\n",
      "3200:\tlearn: 0.4541289\ttotal: 53m 22s\tremaining: 1h 53m 23s\n",
      "3300:\tlearn: 0.4508749\ttotal: 55m 1s\tremaining: 1h 51m 40s\n",
      "3400:\tlearn: 0.4472506\ttotal: 56m 38s\tremaining: 1h 49m 55s\n",
      "3500:\tlearn: 0.4437005\ttotal: 58m 16s\tremaining: 1h 48m 10s\n",
      "3600:\tlearn: 0.4398816\ttotal: 59m 54s\tremaining: 1h 46m 26s\n",
      "3700:\tlearn: 0.4369097\ttotal: 1h 1m 31s\tremaining: 1h 44m 42s\n",
      "3800:\tlearn: 0.4334117\ttotal: 1h 3m 9s\tremaining: 1h 42m 59s\n",
      "3900:\tlearn: 0.4305998\ttotal: 1h 4m 47s\tremaining: 1h 41m 18s\n",
      "4000:\tlearn: 0.4284522\ttotal: 1h 6m 40s\tremaining: 1h 39m 58s\n",
      "4100:\tlearn: 0.4262673\ttotal: 1h 8m 20s\tremaining: 1h 38m 18s\n",
      "4200:\tlearn: 0.4235193\ttotal: 1h 10m 2s\tremaining: 1h 36m 40s\n",
      "4300:\tlearn: 0.4211162\ttotal: 1h 11m 42s\tremaining: 1h 35m 1s\n",
      "4400:\tlearn: 0.4190520\ttotal: 1h 13m 23s\tremaining: 1h 33m 22s\n",
      "4500:\tlearn: 0.4156391\ttotal: 1h 15m 3s\tremaining: 1h 31m 42s\n",
      "4600:\tlearn: 0.4130183\ttotal: 1h 16m 41s\tremaining: 1h 29m 59s\n",
      "4700:\tlearn: 0.4105039\ttotal: 1h 18m 19s\tremaining: 1h 28m 17s\n",
      "4800:\tlearn: 0.4087399\ttotal: 1h 19m 56s\tremaining: 1h 26m 34s\n",
      "4900:\tlearn: 0.4061405\ttotal: 1h 21m 35s\tremaining: 1h 24m 53s\n",
      "5000:\tlearn: 0.4031197\ttotal: 1h 23m 13s\tremaining: 1h 23m 11s\n",
      "5100:\tlearn: 0.4011255\ttotal: 1h 24m 51s\tremaining: 1h 21m 29s\n",
      "5200:\tlearn: 0.3990740\ttotal: 1h 26m 28s\tremaining: 1h 19m 47s\n",
      "5300:\tlearn: 0.3969317\ttotal: 1h 28m 6s\tremaining: 1h 18m 6s\n",
      "5400:\tlearn: 0.3943544\ttotal: 1h 29m 44s\tremaining: 1h 16m 24s\n",
      "5500:\tlearn: 0.3917495\ttotal: 1h 31m 27s\tremaining: 1h 14m 47s\n",
      "5600:\tlearn: 0.3897248\ttotal: 1h 33m 7s\tremaining: 1h 13m 8s\n",
      "5700:\tlearn: 0.3876810\ttotal: 1h 34m 48s\tremaining: 1h 11m 29s\n",
      "5800:\tlearn: 0.3855079\ttotal: 1h 36m 29s\tremaining: 1h 9m 50s\n",
      "5900:\tlearn: 0.3834293\ttotal: 1h 38m 10s\tremaining: 1h 8m 11s\n",
      "6000:\tlearn: 0.3813282\ttotal: 1h 39m 50s\tremaining: 1h 6m 32s\n",
      "6100:\tlearn: 0.3793457\ttotal: 1h 41m 29s\tremaining: 1h 4m 51s\n",
      "6200:\tlearn: 0.3772514\ttotal: 1h 43m 6s\tremaining: 1h 3m 10s\n",
      "6300:\tlearn: 0.3752232\ttotal: 1h 44m 43s\tremaining: 1h 1m 28s\n",
      "6400:\tlearn: 0.3727620\ttotal: 1h 46m 20s\tremaining: 59m 47s\n",
      "6500:\tlearn: 0.3708597\ttotal: 1h 47m 58s\tremaining: 58m 6s\n",
      "6600:\tlearn: 0.3691204\ttotal: 1h 49m 35s\tremaining: 56m 25s\n",
      "6700:\tlearn: 0.3662722\ttotal: 1h 51m 13s\tremaining: 54m 45s\n",
      "6800:\tlearn: 0.3646964\ttotal: 1h 52m 50s\tremaining: 53m 4s\n",
      "6900:\tlearn: 0.3629587\ttotal: 1h 54m 27s\tremaining: 51m 24s\n",
      "7000:\tlearn: 0.3610109\ttotal: 1h 56m 5s\tremaining: 49m 43s\n",
      "7100:\tlearn: 0.3588560\ttotal: 1h 57m 42s\tremaining: 48m 3s\n",
      "7200:\tlearn: 0.3572350\ttotal: 1h 59m 19s\tremaining: 46m 22s\n",
      "7300:\tlearn: 0.3556697\ttotal: 2h 57s\tremaining: 44m 42s\n",
      "7400:\tlearn: 0.3542261\ttotal: 2h 2m 49s\tremaining: 43m 8s\n",
      "7500:\tlearn: 0.3524105\ttotal: 2h 4m 28s\tremaining: 41m 28s\n",
      "7600:\tlearn: 0.3501599\ttotal: 2h 6m 14s\tremaining: 39m 50s\n",
      "7700:\tlearn: 0.3477486\ttotal: 2h 7m 55s\tremaining: 38m 11s\n",
      "7800:\tlearn: 0.3456730\ttotal: 2h 9m 36s\tremaining: 36m 32s\n",
      "7900:\tlearn: 0.3443490\ttotal: 2h 11m 17s\tremaining: 34m 52s\n",
      "8000:\tlearn: 0.3429947\ttotal: 2h 12m 58s\tremaining: 33m 13s\n",
      "8100:\tlearn: 0.3415855\ttotal: 2h 14m 38s\tremaining: 31m 33s\n",
      "8200:\tlearn: 0.3397977\ttotal: 2h 16m 19s\tremaining: 29m 54s\n",
      "8300:\tlearn: 0.3382760\ttotal: 2h 17m 58s\tremaining: 28m 14s\n",
      "8400:\tlearn: 0.3365384\ttotal: 2h 19m 35s\tremaining: 26m 34s\n",
      "8500:\tlearn: 0.3345437\ttotal: 2h 21m 13s\tremaining: 24m 54s\n",
      "8600:\tlearn: 0.3327725\ttotal: 2h 22m 50s\tremaining: 23m 14s\n",
      "8700:\tlearn: 0.3312050\ttotal: 2h 24m 27s\tremaining: 21m 34s\n",
      "8800:\tlearn: 0.3297853\ttotal: 2h 26m 5s\tremaining: 19m 54s\n",
      "8900:\tlearn: 0.3286836\ttotal: 2h 27m 43s\tremaining: 18m 14s\n",
      "9000:\tlearn: 0.3266770\ttotal: 2h 29m 20s\tremaining: 16m 34s\n",
      "9100:\tlearn: 0.3251802\ttotal: 2h 30m 58s\tremaining: 14m 54s\n",
      "9200:\tlearn: 0.3235460\ttotal: 2h 32m 36s\tremaining: 13m 15s\n",
      "9300:\tlearn: 0.3217392\ttotal: 2h 34m 14s\tremaining: 11m 35s\n",
      "9400:\tlearn: 0.3203398\ttotal: 2h 35m 52s\tremaining: 9m 55s\n",
      "9500:\tlearn: 0.3187238\ttotal: 2h 37m 45s\tremaining: 8m 17s\n",
      "9600:\tlearn: 0.3173746\ttotal: 2h 39m 25s\tremaining: 6m 37s\n",
      "9700:\tlearn: 0.3158056\ttotal: 2h 41m 5s\tremaining: 4m 57s\n",
      "9800:\tlearn: 0.3143698\ttotal: 2h 42m 46s\tremaining: 3m 18s\n",
      "9900:\tlearn: 0.3130740\ttotal: 2h 44m 27s\tremaining: 1m 38s\n",
      "9999:\tlearn: 0.3117933\ttotal: 2h 46m 7s\tremaining: 0us\n"
     ]
    },
    {
     "data": {
      "text/plain": [
       "<catboost.core.CatBoostClassifier at 0x1957967ecd0>"
      ]
     },
     "execution_count": 46,
     "metadata": {},
     "output_type": "execute_result"
    }
   ],
   "source": [
    "from catboost import CatBoostClassifier\n",
    "model = CatBoostClassifier(iterations=10000, learning_rate=0.1, depth=10, verbose=100)\n",
    "model.fit(xtr, ytr)"
   ]
  },
  {
   "cell_type": "code",
   "execution_count": 47,
   "id": "1e789d47-2ea8-4c1b-8c2e-a5ea92edbb12",
   "metadata": {},
   "outputs": [
    {
     "name": "stdout",
     "output_type": "stream",
     "text": [
      "Accuracy --  0.7861\n",
      "Recall--  0.7861\n"
     ]
    }
   ],
   "source": [
    "from sklearn.metrics import accuracy_score,recall_score\n",
    "ypred=model.predict(xts)\n",
    "\n",
    "print(\"Accuracy -- \",accuracy_score(yts,ypred))\n",
    "print(\"Recall-- \",recall_score(yts,ypred,average='micro'))"
   ]
  },
  {
   "cell_type": "markdown",
   "id": "c923a8e6-67aa-4f73-b9c1-4b25607890e7",
   "metadata": {},
   "source": [
    "### iii) Random Forest Classifier"
   ]
  },
  {
   "cell_type": "code",
   "execution_count": 48,
   "id": "7ad34cc4-bbfe-489e-a797-c654b052c37b",
   "metadata": {},
   "outputs": [
    {
     "name": "stdout",
     "output_type": "stream",
     "text": [
      "Training accuracy-- 1.0\n",
      "Testing accuracy-- 0.7677\n",
      "Recall-- 0.7677\n"
     ]
    }
   ],
   "source": [
    "from sklearn.ensemble import RandomForestClassifier\n",
    "rfc=RandomForestClassifier(random_state=21,)\n",
    "mfit_multiclassifier(rfc,xtr,xts,ytr,yts)"
   ]
  },
  {
   "cell_type": "markdown",
   "id": "7f675555-4887-4f0e-bdeb-e6f580622043",
   "metadata": {},
   "source": [
    "## Nueral Nets"
   ]
  },
  {
   "cell_type": "code",
   "execution_count": 49,
   "id": "7a55fa6e-d372-4060-a0ea-fa5b9862c306",
   "metadata": {},
   "outputs": [],
   "source": [
    "from keras.models import Sequential\n",
    "from keras.layers import Dense,Dropout,BatchNormalization\n",
    "from keras.callbacks import EarlyStopping,ReduceLROnPlateau\n",
    "from keras.utils import to_categorical"
   ]
  },
  {
   "cell_type": "code",
   "execution_count": 50,
   "id": "1a12278a-8ce4-4b42-911f-82464421400f",
   "metadata": {},
   "outputs": [
    {
     "data": {
      "text/plain": [
       "(100000, 3)"
      ]
     },
     "execution_count": 50,
     "metadata": {},
     "output_type": "execute_result"
    }
   ],
   "source": [
    "ynew=to_categorical(ynew)   ## Compulsory for Multiclass Classification\n",
    "ynew.shape"
   ]
  },
  {
   "cell_type": "code",
   "execution_count": 51,
   "id": "4dec8e07-e3a4-463d-8821-d91c0076ef1d",
   "metadata": {},
   "outputs": [],
   "source": [
    "xtr,xts,ytr,yts=train_test_split(xnew,ynew,random_state=21,test_size=0.2,stratify=ynew)"
   ]
  },
  {
   "cell_type": "code",
   "execution_count": 52,
   "id": "ea1f82cc-340a-40ed-9438-7a581c9290ec",
   "metadata": {},
   "outputs": [],
   "source": [
    "nn=Sequential()\n",
    "nn.add(Dense(100,input_dim=xtr.shape[1]))\n",
    "nn.add(Dense(100,activation=\"relu\"))\n",
    "nn.add(Dropout(rate=0.3))\n",
    "nn.add(Dense(500,activation=\"relu\"))\n",
    "nn.add(Dropout(rate=0.2))\n",
    "nn.add(Dense(100,activation=\"relu\"))\n",
    "nn.add(Dropout(rate=0.2))\n",
    "nn.add(Dense(100,activation=\"relu\"))\n",
    "nn.add(Dense(ynew.shape[1],activation=\"softmax\"))"
   ]
  },
  {
   "cell_type": "code",
   "execution_count": 53,
   "id": "3204fe6b-48f9-4abf-a03b-00c0b2a89a4b",
   "metadata": {},
   "outputs": [],
   "source": [
    "reduce_lr = ReduceLROnPlateau(monitor='val_loss', factor=0.2, patience=5, min_lr=0.001)\n",
    "early_stopping = EarlyStopping(monitor='val_accuracy', patience=10, restore_best_weights=True)\n",
    "\n",
    "#model = nn.fit(xtr,ytr, epochs=50, batch_size=32, validation_split=0.2, callbacks=[early_stopping])\n",
    "#model = nn.fit(xtr,ytr, epochs=50, batch_size=32, validation_split=0.2, callbacks=[reduce_lr])\n"
   ]
  },
  {
   "cell_type": "code",
   "execution_count": 54,
   "id": "a007cd81-1529-4d90-a649-afe28f608feb",
   "metadata": {},
   "outputs": [
    {
     "data": {
      "text/html": [
       "<pre style=\"white-space:pre;overflow-x:auto;line-height:normal;font-family:Menlo,'DejaVu Sans Mono',consolas,'Courier New',monospace\"><span style=\"font-weight: bold\">Model: \"sequential\"</span>\n",
       "</pre>\n"
      ],
      "text/plain": [
       "\u001b[1mModel: \"sequential\"\u001b[0m\n"
      ]
     },
     "metadata": {},
     "output_type": "display_data"
    },
    {
     "data": {
      "text/html": [
       "<pre style=\"white-space:pre;overflow-x:auto;line-height:normal;font-family:Menlo,'DejaVu Sans Mono',consolas,'Courier New',monospace\">┏━━━━━━━━━━━━━━━━━━━━━━━━━━━━━━━━━┳━━━━━━━━━━━━━━━━━━━━━━━━┳━━━━━━━━━━━━━━━┓\n",
       "┃<span style=\"font-weight: bold\"> Layer (type)                    </span>┃<span style=\"font-weight: bold\"> Output Shape           </span>┃<span style=\"font-weight: bold\">       Param # </span>┃\n",
       "┡━━━━━━━━━━━━━━━━━━━━━━━━━━━━━━━━━╇━━━━━━━━━━━━━━━━━━━━━━━━╇━━━━━━━━━━━━━━━┩\n",
       "│ dense (<span style=\"color: #0087ff; text-decoration-color: #0087ff\">Dense</span>)                   │ (<span style=\"color: #00d7ff; text-decoration-color: #00d7ff\">None</span>, <span style=\"color: #00af00; text-decoration-color: #00af00\">100</span>)            │       <span style=\"color: #00af00; text-decoration-color: #00af00\">742,700</span> │\n",
       "├─────────────────────────────────┼────────────────────────┼───────────────┤\n",
       "│ dense_1 (<span style=\"color: #0087ff; text-decoration-color: #0087ff\">Dense</span>)                 │ (<span style=\"color: #00d7ff; text-decoration-color: #00d7ff\">None</span>, <span style=\"color: #00af00; text-decoration-color: #00af00\">100</span>)            │        <span style=\"color: #00af00; text-decoration-color: #00af00\">10,100</span> │\n",
       "├─────────────────────────────────┼────────────────────────┼───────────────┤\n",
       "│ dropout (<span style=\"color: #0087ff; text-decoration-color: #0087ff\">Dropout</span>)               │ (<span style=\"color: #00d7ff; text-decoration-color: #00d7ff\">None</span>, <span style=\"color: #00af00; text-decoration-color: #00af00\">100</span>)            │             <span style=\"color: #00af00; text-decoration-color: #00af00\">0</span> │\n",
       "├─────────────────────────────────┼────────────────────────┼───────────────┤\n",
       "│ dense_2 (<span style=\"color: #0087ff; text-decoration-color: #0087ff\">Dense</span>)                 │ (<span style=\"color: #00d7ff; text-decoration-color: #00d7ff\">None</span>, <span style=\"color: #00af00; text-decoration-color: #00af00\">500</span>)            │        <span style=\"color: #00af00; text-decoration-color: #00af00\">50,500</span> │\n",
       "├─────────────────────────────────┼────────────────────────┼───────────────┤\n",
       "│ dropout_1 (<span style=\"color: #0087ff; text-decoration-color: #0087ff\">Dropout</span>)             │ (<span style=\"color: #00d7ff; text-decoration-color: #00d7ff\">None</span>, <span style=\"color: #00af00; text-decoration-color: #00af00\">500</span>)            │             <span style=\"color: #00af00; text-decoration-color: #00af00\">0</span> │\n",
       "├─────────────────────────────────┼────────────────────────┼───────────────┤\n",
       "│ dense_3 (<span style=\"color: #0087ff; text-decoration-color: #0087ff\">Dense</span>)                 │ (<span style=\"color: #00d7ff; text-decoration-color: #00d7ff\">None</span>, <span style=\"color: #00af00; text-decoration-color: #00af00\">100</span>)            │        <span style=\"color: #00af00; text-decoration-color: #00af00\">50,100</span> │\n",
       "├─────────────────────────────────┼────────────────────────┼───────────────┤\n",
       "│ dropout_2 (<span style=\"color: #0087ff; text-decoration-color: #0087ff\">Dropout</span>)             │ (<span style=\"color: #00d7ff; text-decoration-color: #00d7ff\">None</span>, <span style=\"color: #00af00; text-decoration-color: #00af00\">100</span>)            │             <span style=\"color: #00af00; text-decoration-color: #00af00\">0</span> │\n",
       "├─────────────────────────────────┼────────────────────────┼───────────────┤\n",
       "│ dense_4 (<span style=\"color: #0087ff; text-decoration-color: #0087ff\">Dense</span>)                 │ (<span style=\"color: #00d7ff; text-decoration-color: #00d7ff\">None</span>, <span style=\"color: #00af00; text-decoration-color: #00af00\">100</span>)            │        <span style=\"color: #00af00; text-decoration-color: #00af00\">10,100</span> │\n",
       "├─────────────────────────────────┼────────────────────────┼───────────────┤\n",
       "│ dense_5 (<span style=\"color: #0087ff; text-decoration-color: #0087ff\">Dense</span>)                 │ (<span style=\"color: #00d7ff; text-decoration-color: #00d7ff\">None</span>, <span style=\"color: #00af00; text-decoration-color: #00af00\">3</span>)              │           <span style=\"color: #00af00; text-decoration-color: #00af00\">303</span> │\n",
       "└─────────────────────────────────┴────────────────────────┴───────────────┘\n",
       "</pre>\n"
      ],
      "text/plain": [
       "┏━━━━━━━━━━━━━━━━━━━━━━━━━━━━━━━━━┳━━━━━━━━━━━━━━━━━━━━━━━━┳━━━━━━━━━━━━━━━┓\n",
       "┃\u001b[1m \u001b[0m\u001b[1mLayer (type)                   \u001b[0m\u001b[1m \u001b[0m┃\u001b[1m \u001b[0m\u001b[1mOutput Shape          \u001b[0m\u001b[1m \u001b[0m┃\u001b[1m \u001b[0m\u001b[1m      Param #\u001b[0m\u001b[1m \u001b[0m┃\n",
       "┡━━━━━━━━━━━━━━━━━━━━━━━━━━━━━━━━━╇━━━━━━━━━━━━━━━━━━━━━━━━╇━━━━━━━━━━━━━━━┩\n",
       "│ dense (\u001b[38;5;33mDense\u001b[0m)                   │ (\u001b[38;5;45mNone\u001b[0m, \u001b[38;5;34m100\u001b[0m)            │       \u001b[38;5;34m742,700\u001b[0m │\n",
       "├─────────────────────────────────┼────────────────────────┼───────────────┤\n",
       "│ dense_1 (\u001b[38;5;33mDense\u001b[0m)                 │ (\u001b[38;5;45mNone\u001b[0m, \u001b[38;5;34m100\u001b[0m)            │        \u001b[38;5;34m10,100\u001b[0m │\n",
       "├─────────────────────────────────┼────────────────────────┼───────────────┤\n",
       "│ dropout (\u001b[38;5;33mDropout\u001b[0m)               │ (\u001b[38;5;45mNone\u001b[0m, \u001b[38;5;34m100\u001b[0m)            │             \u001b[38;5;34m0\u001b[0m │\n",
       "├─────────────────────────────────┼────────────────────────┼───────────────┤\n",
       "│ dense_2 (\u001b[38;5;33mDense\u001b[0m)                 │ (\u001b[38;5;45mNone\u001b[0m, \u001b[38;5;34m500\u001b[0m)            │        \u001b[38;5;34m50,500\u001b[0m │\n",
       "├─────────────────────────────────┼────────────────────────┼───────────────┤\n",
       "│ dropout_1 (\u001b[38;5;33mDropout\u001b[0m)             │ (\u001b[38;5;45mNone\u001b[0m, \u001b[38;5;34m500\u001b[0m)            │             \u001b[38;5;34m0\u001b[0m │\n",
       "├─────────────────────────────────┼────────────────────────┼───────────────┤\n",
       "│ dense_3 (\u001b[38;5;33mDense\u001b[0m)                 │ (\u001b[38;5;45mNone\u001b[0m, \u001b[38;5;34m100\u001b[0m)            │        \u001b[38;5;34m50,100\u001b[0m │\n",
       "├─────────────────────────────────┼────────────────────────┼───────────────┤\n",
       "│ dropout_2 (\u001b[38;5;33mDropout\u001b[0m)             │ (\u001b[38;5;45mNone\u001b[0m, \u001b[38;5;34m100\u001b[0m)            │             \u001b[38;5;34m0\u001b[0m │\n",
       "├─────────────────────────────────┼────────────────────────┼───────────────┤\n",
       "│ dense_4 (\u001b[38;5;33mDense\u001b[0m)                 │ (\u001b[38;5;45mNone\u001b[0m, \u001b[38;5;34m100\u001b[0m)            │        \u001b[38;5;34m10,100\u001b[0m │\n",
       "├─────────────────────────────────┼────────────────────────┼───────────────┤\n",
       "│ dense_5 (\u001b[38;5;33mDense\u001b[0m)                 │ (\u001b[38;5;45mNone\u001b[0m, \u001b[38;5;34m3\u001b[0m)              │           \u001b[38;5;34m303\u001b[0m │\n",
       "└─────────────────────────────────┴────────────────────────┴───────────────┘\n"
      ]
     },
     "metadata": {},
     "output_type": "display_data"
    },
    {
     "data": {
      "text/html": [
       "<pre style=\"white-space:pre;overflow-x:auto;line-height:normal;font-family:Menlo,'DejaVu Sans Mono',consolas,'Courier New',monospace\"><span style=\"font-weight: bold\"> Total params: </span><span style=\"color: #00af00; text-decoration-color: #00af00\">863,803</span> (3.30 MB)\n",
       "</pre>\n"
      ],
      "text/plain": [
       "\u001b[1m Total params: \u001b[0m\u001b[38;5;34m863,803\u001b[0m (3.30 MB)\n"
      ]
     },
     "metadata": {},
     "output_type": "display_data"
    },
    {
     "data": {
      "text/html": [
       "<pre style=\"white-space:pre;overflow-x:auto;line-height:normal;font-family:Menlo,'DejaVu Sans Mono',consolas,'Courier New',monospace\"><span style=\"font-weight: bold\"> Trainable params: </span><span style=\"color: #00af00; text-decoration-color: #00af00\">863,803</span> (3.30 MB)\n",
       "</pre>\n"
      ],
      "text/plain": [
       "\u001b[1m Trainable params: \u001b[0m\u001b[38;5;34m863,803\u001b[0m (3.30 MB)\n"
      ]
     },
     "metadata": {},
     "output_type": "display_data"
    },
    {
     "data": {
      "text/html": [
       "<pre style=\"white-space:pre;overflow-x:auto;line-height:normal;font-family:Menlo,'DejaVu Sans Mono',consolas,'Courier New',monospace\"><span style=\"font-weight: bold\"> Non-trainable params: </span><span style=\"color: #00af00; text-decoration-color: #00af00\">0</span> (0.00 B)\n",
       "</pre>\n"
      ],
      "text/plain": [
       "\u001b[1m Non-trainable params: \u001b[0m\u001b[38;5;34m0\u001b[0m (0.00 B)\n"
      ]
     },
     "metadata": {},
     "output_type": "display_data"
    }
   ],
   "source": [
    "nn.compile(optimizer='adam', loss='categorical_crossentropy', metrics=['accuracy','recall'])\n",
    "nn.summary()"
   ]
  },
  {
   "cell_type": "code",
   "execution_count": 55,
   "id": "c31e455e-ca7a-45e5-86bc-d8c13a16e2c3",
   "metadata": {},
   "outputs": [
    {
     "name": "stdout",
     "output_type": "stream",
     "text": [
      "Epoch 1/35\n",
      "\u001b[1m1120/1120\u001b[0m \u001b[32m━━━━━━━━━━━━━━━━━━━━\u001b[0m\u001b[37m\u001b[0m \u001b[1m36s\u001b[0m 22ms/step - accuracy: 0.6369 - loss: 0.7720 - recall: 0.5139 - val_accuracy: 0.7182 - val_loss: 0.6402 - val_recall: 0.6222\n",
      "Epoch 2/35\n",
      "\u001b[1m1120/1120\u001b[0m \u001b[32m━━━━━━━━━━━━━━━━━━━━\u001b[0m\u001b[37m\u001b[0m \u001b[1m36s\u001b[0m 18ms/step - accuracy: 0.7495 - loss: 0.5723 - recall: 0.6933 - val_accuracy: 0.7353 - val_loss: 0.5948 - val_recall: 0.6815\n",
      "Epoch 3/35\n",
      "\u001b[1m1120/1120\u001b[0m \u001b[32m━━━━━━━━━━━━━━━━━━━━\u001b[0m\u001b[37m\u001b[0m \u001b[1m21s\u001b[0m 18ms/step - accuracy: 0.7707 - loss: 0.5140 - recall: 0.7183 - val_accuracy: 0.7408 - val_loss: 0.6004 - val_recall: 0.6906\n",
      "Epoch 4/35\n",
      "\u001b[1m1120/1120\u001b[0m \u001b[32m━━━━━━━━━━━━━━━━━━━━\u001b[0m\u001b[37m\u001b[0m \u001b[1m27s\u001b[0m 24ms/step - accuracy: 0.7808 - loss: 0.4865 - recall: 0.7302 - val_accuracy: 0.7532 - val_loss: 0.6002 - val_recall: 0.7019\n",
      "Epoch 5/35\n",
      "\u001b[1m1120/1120\u001b[0m \u001b[32m━━━━━━━━━━━━━━━━━━━━\u001b[0m\u001b[37m\u001b[0m \u001b[1m38s\u001b[0m 22ms/step - accuracy: 0.7878 - loss: 0.4638 - recall: 0.7426 - val_accuracy: 0.7551 - val_loss: 0.6171 - val_recall: 0.6994\n",
      "Epoch 6/35\n",
      "\u001b[1m1120/1120\u001b[0m \u001b[32m━━━━━━━━━━━━━━━━━━━━\u001b[0m\u001b[37m\u001b[0m \u001b[1m39s\u001b[0m 19ms/step - accuracy: 0.7988 - loss: 0.4426 - recall: 0.7565 - val_accuracy: 0.7597 - val_loss: 0.6612 - val_recall: 0.7195\n",
      "Epoch 7/35\n",
      "\u001b[1m1120/1120\u001b[0m \u001b[32m━━━━━━━━━━━━━━━━━━━━\u001b[0m\u001b[37m\u001b[0m \u001b[1m21s\u001b[0m 19ms/step - accuracy: 0.8029 - loss: 0.4247 - recall: 0.7605 - val_accuracy: 0.7511 - val_loss: 0.6797 - val_recall: 0.6916\n",
      "Epoch 8/35\n",
      "\u001b[1m1120/1120\u001b[0m \u001b[32m━━━━━━━━━━━━━━━━━━━━\u001b[0m\u001b[37m\u001b[0m \u001b[1m22s\u001b[0m 20ms/step - accuracy: 0.8108 - loss: 0.4104 - recall: 0.7670 - val_accuracy: 0.7499 - val_loss: 0.6526 - val_recall: 0.6872\n",
      "Epoch 9/35\n",
      "\u001b[1m1120/1120\u001b[0m \u001b[32m━━━━━━━━━━━━━━━━━━━━\u001b[0m\u001b[37m\u001b[0m \u001b[1m22s\u001b[0m 19ms/step - accuracy: 0.8135 - loss: 0.4026 - recall: 0.7709 - val_accuracy: 0.7564 - val_loss: 0.7752 - val_recall: 0.7046\n",
      "Epoch 10/35\n",
      "\u001b[1m1120/1120\u001b[0m \u001b[32m━━━━━━━━━━━━━━━━━━━━\u001b[0m\u001b[37m\u001b[0m \u001b[1m22s\u001b[0m 20ms/step - accuracy: 0.8198 - loss: 0.3896 - recall: 0.7811 - val_accuracy: 0.7533 - val_loss: 0.7374 - val_recall: 0.7155\n",
      "Epoch 11/35\n",
      "\u001b[1m1120/1120\u001b[0m \u001b[32m━━━━━━━━━━━━━━━━━━━━\u001b[0m\u001b[37m\u001b[0m \u001b[1m41s\u001b[0m 20ms/step - accuracy: 0.8225 - loss: 0.3811 - recall: 0.7874 - val_accuracy: 0.7479 - val_loss: 0.7603 - val_recall: 0.7137\n",
      "Epoch 12/35\n",
      "\u001b[1m1120/1120\u001b[0m \u001b[32m━━━━━━━━━━━━━━━━━━━━\u001b[0m\u001b[37m\u001b[0m \u001b[1m42s\u001b[0m 20ms/step - accuracy: 0.8273 - loss: 0.3722 - recall: 0.7914 - val_accuracy: 0.7463 - val_loss: 0.7697 - val_recall: 0.7119\n",
      "Epoch 13/35\n",
      "\u001b[1m1120/1120\u001b[0m \u001b[32m━━━━━━━━━━━━━━━━━━━━\u001b[0m\u001b[37m\u001b[0m \u001b[1m22s\u001b[0m 19ms/step - accuracy: 0.8323 - loss: 0.3683 - recall: 0.7974 - val_accuracy: 0.7498 - val_loss: 0.7879 - val_recall: 0.7020\n",
      "Epoch 14/35\n",
      "\u001b[1m1120/1120\u001b[0m \u001b[32m━━━━━━━━━━━━━━━━━━━━\u001b[0m\u001b[37m\u001b[0m \u001b[1m22s\u001b[0m 19ms/step - accuracy: 0.8359 - loss: 0.3575 - recall: 0.8037 - val_accuracy: 0.7536 - val_loss: 0.8764 - val_recall: 0.7190\n",
      "Epoch 15/35\n",
      "\u001b[1m1120/1120\u001b[0m \u001b[32m━━━━━━━━━━━━━━━━━━━━\u001b[0m\u001b[37m\u001b[0m \u001b[1m23s\u001b[0m 20ms/step - accuracy: 0.8435 - loss: 0.3479 - recall: 0.8119 - val_accuracy: 0.7526 - val_loss: 0.9056 - val_recall: 0.7008\n",
      "Epoch 16/35\n",
      "\u001b[1m1120/1120\u001b[0m \u001b[32m━━━━━━━━━━━━━━━━━━━━\u001b[0m\u001b[37m\u001b[0m \u001b[1m22s\u001b[0m 20ms/step - accuracy: 0.8454 - loss: 0.3433 - recall: 0.8118 - val_accuracy: 0.7555 - val_loss: 0.9107 - val_recall: 0.7182\n"
     ]
    }
   ],
   "source": [
    "model=nn.fit(xtr,ytr,epochs=35,batch_size=50,validation_split=0.3,callbacks=[early_stopping])"
   ]
  },
  {
   "cell_type": "code",
   "execution_count": 56,
   "id": "4fb9b5cf-6977-42de-b5ca-506660324c2e",
   "metadata": {},
   "outputs": [
    {
     "data": {
      "image/png": "[encoded data removed]",
      "text/plain": [
       "<Figure size 640x480 with 1 Axes>"
      ]
     },
     "metadata": {},
     "output_type": "display_data"
    }
   ],
   "source": [
    "plt.plot(model.history['accuracy'],label='Accuracy') # loss is training loss\n",
    "plt.plot(model.history['val_accuracy'],label='Val_accuracy') # val_loss loss on the validation data / test loss\n",
    "plt.legend()\n",
    "plt.show()"
   ]
  },
  {
   "cell_type": "code",
   "execution_count": 57,
   "id": "c8c40355-f5f2-4e2a-9e3d-3f64963092b2",
   "metadata": {},
   "outputs": [
    {
     "data": {
      "image/png": "[encoded data removed]",
      "text/plain": [
       "<Figure size 640x480 with 1 Axes>"
      ]
     },
     "metadata": {},
     "output_type": "display_data"
    }
   ],
   "source": [
    "plt.plot(model.history['recall'],label='Recall') # loss is training loss\n",
    "plt.plot(model.history['val_recall'],label='Val_recall') # val_loss loss on the validation data / test loss\n",
    "plt.legend()\n",
    "plt.show()"
   ]
  },
  {
   "cell_type": "code",
   "execution_count": 58,
   "id": "bc06ea23-0b7a-4000-bb93-f0e806b316a7",
   "metadata": {},
   "outputs": [
    {
     "data": {
      "image/png": "[encoded data removed]",
      "text/plain": [
       "<Figure size 640x480 with 1 Axes>"
      ]
     },
     "metadata": {},
     "output_type": "display_data"
    }
   ],
   "source": [
    "plt.plot(model.history['loss'],label='Loss') # loss is training loss\n",
    "plt.plot(model.history['val_loss'],label='Val_loss') # val_loss loss on the validation data / test loss\n",
    "plt.legend()\n",
    "plt.show()"
   ]
  },
  {
   "cell_type": "code",
   "execution_count": 59,
   "id": "87ba24f7-39ed-4eee-9dc0-bab9ebc687c6",
   "metadata": {},
   "outputs": [
    {
     "name": "stdout",
     "output_type": "stream",
     "text": [
      "\u001b[1m625/625\u001b[0m \u001b[32m━━━━━━━━━━━━━━━━━━━━\u001b[0m\u001b[37m\u001b[0m \u001b[1m3s\u001b[0m 4ms/step\n"
     ]
    }
   ],
   "source": [
    "ypred=nn.predict(xts)"
   ]
  },
  {
   "cell_type": "code",
   "execution_count": 60,
   "id": "67a8b987-559e-4ea4-be40-3cd23c59505e",
   "metadata": {},
   "outputs": [
    {
     "name": "stdout",
     "output_type": "stream",
     "text": [
      "\u001b[1m625/625\u001b[0m \u001b[32m━━━━━━━━━━━━━━━━━━━━\u001b[0m\u001b[37m\u001b[0m \u001b[1m3s\u001b[0m 4ms/step - accuracy: 0.7545 - loss: 0.6479 - recall: 0.7163\n",
      "Loss = 0.6515563130378723\n",
      "Testing Accuracy = 0.7565500140190125\n",
      "Testing Recall = 0.71875\n"
     ]
    }
   ],
   "source": [
    "loss,accuracy,recall=nn.evaluate(xts,yts)\n",
    "print(f\"Loss = {loss}\")\n",
    "print(f\"Testing Accuracy = {accuracy}\")\n",
    "print(f\"Testing Recall = {recall}\")"
   ]
  },
  {
   "cell_type": "markdown",
   "id": "6edb11ab-13c8-4015-b37f-19fe68bd4e0a",
   "metadata": {},
   "source": [
    "##  <p style=\"padding:10px;background-color:Pink ;margin:10;color:#000000;font-family:newtimeroman;font-size:100% ;overflow:hidden;font-weight:50\">Conclusion</p>"
   ]
  },
  {
   "cell_type": "markdown",
   "id": "1f853cac-d804-4313-a758-e74b9e893116",
   "metadata": {},
   "source": [
    "###  <p style=\"padding:10px;background-color:yellow ;margin:10;color:#000000;font-family:newtimeroman;font-size:100%;border-radius: 10px 10px ;overflow:hidden;font-weight:50\">After comparing all the classification models CAT Boost Classifier obtained highest accurachy and recall score. Hence we can use CAT Boost model for classifying the new data points </p> "
   ]
  },
  {
   "cell_type": "code",
   "execution_count": null,
   "id": "82cae8e1-9be3-4299-ab50-f128dd3ba1b2",
   "metadata": {},
   "outputs": [],
   "source": []
  }
 ],
 "metadata": {
  "kernelspec": {
   "display_name": "Python 3 (ipykernel)",
   "language": "python",
   "name": "python3"
  },
  "language_info": {
   "codemirror_mode": {
    "name": "ipython",
    "version": 3
   },
   "file_extension": ".py",
   "mimetype": "text/x-python",
   "name": "python",
   "nbconvert_exporter": "python",
   "pygments_lexer": "ipython3",
   "version": "3.11.9"
  }
 },
 "nbformat": 4,
 "nbformat_minor": 5
}
